{
 "cells": [
  {
   "cell_type": "markdown",
   "metadata": {
    "application/vnd.databricks.v1+cell": {
     "cellMetadata": {},
     "inputWidgets": {},
     "nuid": "1a1dfa54-3ff7-494c-a535-834f339f8cb4",
     "showTitle": false,
     "tableResultSettingsMap": {},
     "title": ""
    }
   },
   "source": [
    "## Apache Spark machine library (MLlib)"
   ]
  },
  {
   "cell_type": "code",
   "execution_count": 2,
   "metadata": {},
   "outputs": [],
   "source": [
    "from pyspark.sql import SparkSession\n",
    "\n",
    "spark = SparkSession.builder.appName(\"MyApp\").getOrCreate()"
   ]
  },
  {
   "cell_type": "markdown",
   "metadata": {
    "application/vnd.databricks.v1+cell": {
     "cellMetadata": {},
     "inputWidgets": {},
     "nuid": "1695e37f-8a8e-40fc-adb0-42eaa8dd0e57",
     "showTitle": false,
     "tableResultSettingsMap": {},
     "title": ""
    }
   },
   "source": [
    "## Load sample data"
   ]
  },
  {
   "cell_type": "code",
   "execution_count": 5,
   "metadata": {
    "application/vnd.databricks.v1+cell": {
     "cellMetadata": {
      "byteLimit": 2048000,
      "rowLimit": 10000
     },
     "inputWidgets": {},
     "nuid": "28da09a6-c97d-4206-9383-16be1a5e15ee",
     "showTitle": false,
     "tableResultSettingsMap": {},
     "title": ""
    }
   },
   "outputs": [
    {
     "data": {
      "text/plain": [
       "DataFrame[2014 rank: int, City: string, State: string, State Code: string, 2014 Population estimate: int, 2015 median sales price: double]"
      ]
     },
     "execution_count": 5,
     "metadata": {},
     "output_type": "execute_result"
    }
   ],
   "source": [
    "# Use the Spark CSV datasource with options specifying:\n",
    "# - First line of file is a header\n",
    "# - Automatically infer the schema of the data\n",
    "data = spark.read.format(\"csv\").option(\"header\", \"true\").option(\"inferSchema\", \"true\").load(\"data_geo_local.csv\")\n",
    "# databricks\n",
    "#data = spark.read.format(\"csv\").option(\"header\", \"true\").option(\"inferSchema\", \"true\").load(\"/databricks-datasets/samples/population-vs-price/data_geo.csv\")\n",
    "\n",
    "data.cache() # Cache data for faster reuse"
   ]
  },
  {
   "cell_type": "markdown",
   "metadata": {
    "application/vnd.databricks.v1+cell": {
     "cellMetadata": {},
     "inputWidgets": {},
     "nuid": "761e5cb3-6cf4-4ad0-90d4-ebf31f578ab4",
     "showTitle": false,
     "tableResultSettingsMap": {},
     "title": ""
    }
   },
   "source": [
    "View the data in tabular form"
   ]
  },
  {
   "cell_type": "code",
   "execution_count": null,
   "metadata": {
    "application/vnd.databricks.v1+cell": {
     "cellMetadata": {
      "byteLimit": 2048000,
      "rowLimit": 10000
     },
     "inputWidgets": {},
     "nuid": "706f5cd2-e437-4c86-8f1e-4a565517bf7d",
     "showTitle": false,
     "tableResultSettingsMap": {},
     "title": ""
    }
   },
   "outputs": [
    {
     "data": {
      "text/html": [
       "<style scoped>\n",
       "  .table-result-container {\n",
       "    max-height: 300px;\n",
       "    overflow: auto;\n",
       "  }\n",
       "  table, th, td {\n",
       "    border: 1px solid black;\n",
       "    border-collapse: collapse;\n",
       "  }\n",
       "  th, td {\n",
       "    padding: 5px;\n",
       "  }\n",
       "  th {\n",
       "    text-align: left;\n",
       "  }\n",
       "</style><div class='table-result-container'><table class='table-result'><thead style='background-color: white'><tr><th>2014 rank</th><th>City</th><th>State</th><th>State Code</th><th>2014 Population estimate</th><th>2015 median sales price</th></tr></thead><tbody><tr><td>101</td><td>Birmingham</td><td>Alabama</td><td>AL</td><td>212247</td><td>162.9</td></tr><tr><td>125</td><td>Huntsville</td><td>Alabama</td><td>AL</td><td>188226</td><td>157.7</td></tr><tr><td>122</td><td>Mobile</td><td>Alabama</td><td>AL</td><td>194675</td><td>122.5</td></tr><tr><td>114</td><td>Montgomery</td><td>Alabama</td><td>AL</td><td>200481</td><td>129.0</td></tr><tr><td>64</td><td>Anchorage[19]</td><td>Alaska</td><td>AK</td><td>301010</td><td>null</td></tr><tr><td>78</td><td>Chandler</td><td>Arizona</td><td>AZ</td><td>254276</td><td>null</td></tr><tr><td>86</td><td>Gilbert[20]</td><td>Arizona</td><td>AZ</td><td>239277</td><td>null</td></tr><tr><td>88</td><td>Glendale</td><td>Arizona</td><td>AZ</td><td>237517</td><td>null</td></tr><tr><td>38</td><td>Mesa</td><td>Arizona</td><td>AZ</td><td>464704</td><td>null</td></tr><tr><td>148</td><td>Peoria</td><td>Arizona</td><td>AZ</td><td>166934</td><td>null</td></tr><tr><td>6</td><td>Phoenix</td><td>Arizona</td><td>AZ</td><td>1537058</td><td>206.1</td></tr><tr><td>95</td><td>Scottsdale</td><td>Arizona</td><td>AZ</td><td>230512</td><td>null</td></tr><tr><td>215</td><td>Surprise</td><td>Arizona</td><td>AZ</td><td>126275</td><td>null</td></tr><tr><td>142</td><td>Tempe</td><td>Arizona</td><td>AZ</td><td>172816</td><td>null</td></tr><tr><td>33</td><td>Tucson</td><td>Arizona</td><td>AZ</td><td>527972</td><td>178.1</td></tr><tr><td>119</td><td>Little Rock</td><td>Arkansas</td><td>AR</td><td>197706</td><td>131.8</td></tr><tr><td>56</td><td>Anaheim</td><td>California</td><td>CA</td><td>346997</td><td>685.7</td></tr><tr><td>261</td><td>Antioch</td><td>California</td><td>CA</td><td>108930</td><td>null</td></tr><tr><td>52</td><td>Bakersfield</td><td>California</td><td>CA</td><td>368759</td><td>null</td></tr><tr><td>227</td><td>Berkeley</td><td>California</td><td>CA</td><td>118853</td><td>null</td></tr><tr><td>276</td><td>Burbank</td><td>California</td><td>CA</td><td>105368</td><td>null</td></tr><tr><td>245</td><td>Carlsbad</td><td>California</td><td>CA</td><td>112299</td><td>null</td></tr><tr><td>75</td><td>Chula Vista</td><td>California</td><td>CA</td><td>260988</td><td>null</td></tr><tr><td>291</td><td>Clovis</td><td>California</td><td>CA</td><td>102189</td><td>null</td></tr><tr><td>212</td><td>Concord</td><td>California</td><td>CA</td><td>127522</td><td>null</td></tr><tr><td>153</td><td>Corona</td><td>California</td><td>CA</td><td>161486</td><td>null</td></tr><tr><td>243</td><td>Costa Mesa</td><td>California</td><td>CA</td><td>112784</td><td>null</td></tr><tr><td>274</td><td>Daly City</td><td>California</td><td>CA</td><td>106094</td><td>null</td></tr><tr><td>240</td><td>Downey</td><td>California</td><td>CA</td><td>114172</td><td>null</td></tr><tr><td>285</td><td>El Cajon</td><td>California</td><td>CA</td><td>103091</td><td>null</td></tr><tr><td>234</td><td>El Monte</td><td>California</td><td>CA</td><td>116631</td><td>null</td></tr><tr><td>151</td><td>Elk Grove</td><td>California</td><td>CA</td><td>163553</td><td>null</td></tr><tr><td>167</td><td>Escondido</td><td>California</td><td>CA</td><td>150243</td><td>null</td></tr><tr><td>250</td><td>Fairfield</td><td>California</td><td>CA</td><td>111125</td><td>null</td></tr><tr><td>108</td><td>Fontana</td><td>California</td><td>CA</td><td>204950</td><td>null</td></tr><tr><td>97</td><td>Fremont</td><td>California</td><td>CA</td><td>228758</td><td>null</td></tr><tr><td>34</td><td>Fresno</td><td>California</td><td>CA</td><td>515986</td><td>null</td></tr><tr><td>186</td><td>Fullerton</td><td>California</td><td>CA</td><td>139677</td><td>null</td></tr><tr><td>136</td><td>Garden Grove</td><td>California</td><td>CA</td><td>175078</td><td>null</td></tr><tr><td>116</td><td>Glendale</td><td>California</td><td>CA</td><td>200167</td><td>null</td></tr><tr><td>161</td><td>Hayward</td><td>California</td><td>CA</td><td>154612</td><td>null</td></tr><tr><td>112</td><td>Huntington Beach</td><td>California</td><td>CA</td><td>200809</td><td>null</td></tr><tr><td>248</td><td>Inglewood</td><td>California</td><td>CA</td><td>111905</td><td>null</td></tr><tr><td>82</td><td>Irvine</td><td>California</td><td>CA</td><td>248531</td><td>null</td></tr><tr><td>154</td><td>Lancaster</td><td>California</td><td>CA</td><td>161043</td><td>null</td></tr><tr><td>36</td><td>Long Beach</td><td>California</td><td>CA</td><td>473577</td><td>null</td></tr><tr><td>2</td><td>Los Angeles</td><td>California</td><td>CA</td><td>3928864</td><td>434.7</td></tr><tr><td>104</td><td>Modesto</td><td>California</td><td>CA</td><td>209286</td><td>null</td></tr><tr><td>110</td><td>Moreno Valley</td><td>California</td><td>CA</td><td>202976</td><td>null</td></tr><tr><td>268</td><td>Murrieta</td><td>California</td><td>CA</td><td>108368</td><td>null</td></tr><tr><td>270</td><td>Norwalk</td><td>California</td><td>CA</td><td>107096</td><td>null</td></tr><tr><td>45</td><td>Oakland</td><td>California</td><td>CA</td><td>413775</td><td>null</td></tr><tr><td>137</td><td>Oceanside</td><td>California</td><td>CA</td><td>174558</td><td>null</td></tr><tr><td>146</td><td>Ontario</td><td>California</td><td>CA</td><td>169089</td><td>null</td></tr><tr><td>185</td><td>Orange</td><td>California</td><td>CA</td><td>139812</td><td>null</td></tr><tr><td>106</td><td>Oxnard</td><td>California</td><td>CA</td><td>205437</td><td>null</td></tr><tr><td>156</td><td>Palmdale</td><td>California</td><td>CA</td><td>158279</td><td>null</td></tr><tr><td>184</td><td>Pasadena</td><td>California</td><td>CA</td><td>140881</td><td>null</td></tr><tr><td>165</td><td>Pomona</td><td>California</td><td>CA</td><td>153350</td><td>null</td></tr><tr><td>138</td><td>Rancho Cucamonga</td><td>California</td><td>CA</td><td>174305</td><td>null</td></tr><tr><td>288</td><td>Rialto</td><td>California</td><td>CA</td><td>102741</td><td>null</td></tr><tr><td>265</td><td>Richmond</td><td>California</td><td>CA</td><td>108565</td><td>null</td></tr><tr><td>59</td><td>Riverside</td><td>California</td><td>CA</td><td>319504</td><td>281.0</td></tr><tr><td>205</td><td>Roseville</td><td>California</td><td>CA</td><td>128615</td><td>null</td></tr><tr><td>35</td><td>Sacramento</td><td>California</td><td>CA</td><td>485199</td><td>275.8</td></tr><tr><td>158</td><td>Salinas</td><td>California</td><td>CA</td><td>156677</td><td>null</td></tr><tr><td>100</td><td>San Bernardino</td><td>California</td><td>CA</td><td>215213</td><td>null</td></tr><tr><td>8</td><td>San Diego</td><td>California</td><td>CA</td><td>1381069</td><td>510.3</td></tr><tr><td>13</td><td>San Francisco[10]</td><td>California</td><td>CA</td><td>852469</td><td>748.3</td></tr><tr><td>10</td><td>San Jose</td><td>California</td><td>CA</td><td>1015785</td><td>900.0</td></tr><tr><td>286</td><td>San Mateo</td><td>California</td><td>CA</td><td>102893</td><td>null</td></tr><tr><td>57</td><td>Santa Ana</td><td>California</td><td>CA</td><td>334909</td><td>null</td></tr><tr><td>219</td><td>Santa Clara</td><td>California</td><td>CA</td><td>122192</td><td>null</td></tr><tr><td>133</td><td>Santa Clarita</td><td>California</td><td>CA</td><td>181557</td><td>null</td></tr><tr><td>284</td><td>Santa Maria</td><td>California</td><td>CA</td><td>103410</td><td>null</td></tr><tr><td>139</td><td>Santa Rosa</td><td>California</td><td>CA</td><td>174170</td><td>null</td></tr><tr><td>214</td><td>Simi Valley</td><td>California</td><td>CA</td><td>126871</td><td>null</td></tr><tr><td>63</td><td>Stockton</td><td>California</td><td>CA</td><td>302389</td><td>null</td></tr><tr><td>168</td><td>Sunnyvale</td><td>California</td><td>CA</td><td>149980</td><td>null</td></tr><tr><td>259</td><td>Temecula</td><td>California</td><td>CA</td><td>109428</td><td>null</td></tr><tr><td>201</td><td>Thousand Oaks</td><td>California</td><td>CA</td><td>129342</td><td>null</td></tr><tr><td>172</td><td>Torrance</td><td>California</td><td>CA</td><td>148495</td><td>null</td></tr><tr><td>224</td><td>Vallejo</td><td>California</td><td>CA</td><td>120228</td><td>null</td></tr><tr><td>258</td><td>Ventura[29]</td><td>California</td><td>CA</td><td>109484</td><td>null</td></tr><tr><td>220</td><td>Victorville</td><td>California</td><td>CA</td><td>121901</td><td>null</td></tr><tr><td>202</td><td>Visalia</td><td>California</td><td>CA</td><td>129281</td><td>null</td></tr><tr><td>266</td><td>West Covina</td><td>California</td><td>CA</td><td>108455</td><td>null</td></tr><tr><td>242</td><td>Arvada</td><td>Colorado</td><td>CO</td><td>113574</td><td>null</td></tr><tr><td>54</td><td>Aurora</td><td>Colorado</td><td>CO</td><td>353108</td><td>null</td></tr><tr><td>278</td><td>Boulder</td><td>Colorado</td><td>CO</td><td>105112</td><td>442.2</td></tr><tr><td>269</td><td>Centennial</td><td>Colorado</td><td>CO</td><td>107201</td><td>null</td></tr><tr><td>42</td><td>Colorado Springs</td><td>Colorado</td><td>CO</td><td>445830</td><td>220.1</td></tr><tr><td>21</td><td>Denver[12]</td><td>Colorado</td><td>CO</td><td>663862</td><td>338.1</td></tr><tr><td>159</td><td>Fort Collins</td><td>Colorado</td><td>CO</td><td>156480</td><td>null</td></tr><tr><td>169</td><td>Lakewood</td><td>Colorado</td><td>CO</td><td>149643</td><td>null</td></tr><tr><td>267</td><td>Pueblo</td><td>Colorado</td><td>CO</td><td>108423</td><td>null</td></tr><tr><td>197</td><td>Thornton</td><td>Colorado</td><td>CO</td><td>130307</td><td>null</td></tr><tr><td>247</td><td>Westminster</td><td>Colorado</td><td>CO</td><td>112090</td><td>null</td></tr><tr><td>175</td><td>Bridgeport</td><td>Connecticut</td><td>CT</td><td>147612</td><td>342.7</td></tr><tr><td>218</td><td>Hartford</td><td>Connecticut</td><td>CT</td><td>124705</td><td>202.6</td></tr><tr><td>198</td><td>New Haven</td><td>Connecticut</td><td>CT</td><td>130282</td><td>205.1</td></tr><tr><td>208</td><td>Stamford</td><td>Connecticut</td><td>CT</td><td>128278</td><td>null</td></tr><tr><td>260</td><td>Waterbury</td><td>Connecticut</td><td>CT</td><td>109307</td><td>null</td></tr><tr><td>22</td><td>Washington[13]</td><td>District of Columbia</td><td>DC</td><td>658893</td><td>367.8</td></tr><tr><td>144</td><td>Cape Coral</td><td>Florida</td><td>FL</td><td>169854</td><td>208.0</td></tr><tr><td>253</td><td>Clearwater</td><td>Florida</td><td>FL</td><td>110703</td><td>null</td></tr><tr><td>211</td><td>Coral Springs</td><td>Florida</td><td>FL</td><td>127952</td><td>null</td></tr><tr><td>135</td><td>Fort Lauderdale</td><td>Florida</td><td>FL</td><td>176013</td><td>null</td></tr><tr><td>206</td><td>Gainesville</td><td>Florida</td><td>FL</td><td>128460</td><td>169.9</td></tr><tr><td>90</td><td>Hialeah</td><td>Florida</td><td>FL</td><td>235563</td><td>null</td></tr><tr><td>173</td><td>Hollywood</td><td>Florida</td><td>FL</td><td>148047</td><td>null</td></tr><tr><td>12</td><td>Jacksonville[9]</td><td>Florida</td><td>FL</td><td>853382</td><td>182.5</td></tr><tr><td>290</td><td>Lakeland</td><td>Florida</td><td>FL</td><td>102346</td><td>136.0</td></tr><tr><td>44</td><td>Miami</td><td>Florida</td><td>FL</td><td>430332</td><td>269.1</td></tr><tr><td>246</td><td>Miami Gardens</td><td>Florida</td><td>FL</td><td>112265</td><td>null</td></tr><tr><td>192</td><td>Miramar</td><td>Florida</td><td>FL</td><td>134989</td><td>null</td></tr><tr><td>73</td><td>Orlando</td><td>Florida</td><td>FL</td><td>262372</td><td>null</td></tr><tr><td>275</td><td>Palm Bay</td><td>Florida</td><td>FL</td><td>105838</td><td>145.0</td></tr><tr><td>150</td><td>Pembroke Pines</td><td>Florida</td><td>FL</td><td>164626</td><td>null</td></tr><tr><td>273</td><td>Pompano Beach</td><td>Florida</td><td>FL</td><td>106105</td><td>null</td></tr><tr><td>140</td><td>Port St. Lucie</td><td>Florida</td><td>FL</td><td>174110</td><td>172.0</td></tr><tr><td>79</td><td>St. Petersburg</td><td>Florida</td><td>FL</td><td>253693</td><td>null</td></tr><tr><td>126</td><td>Tallahassee</td><td>Florida</td><td>FL</td><td>188107</td><td>170.5</td></tr><tr><td>53</td><td>Tampa</td><td>Florida</td><td>FL</td><td>358699</td><td>156.0</td></tr><tr><td>281</td><td>West Palm Beach</td><td>Florida</td><td>FL</td><td>104031</td><td>null</td></tr><tr><td>225</td><td>Athens[28]</td><td>Georgia</td><td>GA</td><td>119648</td><td>null</td></tr><tr><td>39</td><td>Atlanta</td><td>Georgia</td><td>GA</td><td>456002</td><td>158.0</td></tr><tr><td>121</td><td>Augusta[24]</td><td>Georgia</td><td>GA</td><td>196741</td><td>null</td></tr><tr><td>111</td><td>Columbus[23]</td><td>Georgia</td><td>GA</td><td>200887</td><td>null</td></tr><tr><td>164</td><td>Macon</td><td>Georgia</td><td>GA</td><td>null</td><td>null</td></tr><tr><td>292</td><td>Sandy Springs</td><td>Georgia</td><td>GA</td><td>101908</td><td>null</td></tr><tr><td>181</td><td>Savannah</td><td>Georgia</td><td>GA</td><td>144352</td><td>null</td></tr><tr><td>55</td><td>Honolulu[2]</td><td>Hawai'i</td><td>HI</td><td>350399</td><td>699.3</td></tr><tr><td>99</td><td>Boise[22]</td><td>Idaho</td><td>ID</td><td>216282</td><td>178.7</td></tr><tr><td>115</td><td>Aurora</td><td>Illinois</td><td>IL</td><td>200456</td><td>null</td></tr><tr><td>3</td><td>Chicago</td><td>Illinois</td><td>IL</td><td>2722389</td><td>192.5</td></tr><tr><td>251</td><td>Elgin</td><td>Illinois</td><td>IL</td><td>111117</td><td>null</td></tr><tr><td>174</td><td>Joliet</td><td>Illinois</td><td>IL</td><td>147928</td><td>null</td></tr><tr><td>178</td><td>Naperville</td><td>Illinois</td><td>IL</td><td>146128</td><td>null</td></tr><tr><td>236</td><td>Peoria</td><td>Illinois</td><td>IL</td><td>115828</td><td>105.2</td></tr><tr><td>171</td><td>Rockford</td><td>Illinois</td><td>IL</td><td>149123</td><td>78.6</td></tr><tr><td>233</td><td>Springfield</td><td>Illinois</td><td>IL</td><td>116809</td><td>115.2</td></tr><tr><td>223</td><td>Evansville</td><td>Indiana</td><td>IN</td><td>120346</td><td>null</td></tr><tr><td>77</td><td>Fort Wayne</td><td>Indiana</td><td>IN</td><td>258522</td><td>106.3</td></tr><tr><td>14</td><td>Indianapolis[11]</td><td>Indiana</td><td>IN</td><td>848788</td><td>139.2</td></tr><tr><td>203</td><td>Cedar Rapids</td><td>Iowa</td><td>IA</td><td>129195</td><td>156.9</td></tr><tr><td>289</td><td>Davenport</td><td>Iowa</td><td>IA</td><td>102448</td><td>109.4</td></tr><tr><td>105</td><td>Des Moines</td><td>Iowa</td><td>IA</td><td>209220</td><td>null</td></tr><tr><td>170</td><td>Kansas City[26]</td><td>Kansas</td><td>KS</td><td>149636</td><td>null</td></tr><tr><td>194</td><td>Olathe</td><td>Kansas</td><td>KS</td><td>133062</td><td>null</td></tr><tr><td>128</td><td>Overland Park</td><td>Kansas</td><td>KS</td><td>184525</td><td>null</td></tr><tr><td>213</td><td>Topeka</td><td>Kansas</td><td>KS</td><td>127215</td><td>105.3</td></tr><tr><td>49</td><td>Wichita</td><td>Kansas</td><td>KS</td><td>388413</td><td>126.0</td></tr><tr><td>61</td><td>Lexington[18]</td><td>Kentucky</td><td>KY</td><td>310797</td><td>141.2</td></tr><tr><td>30</td><td>Louisville[16]</td><td>Kentucky</td><td>KY</td><td>612780</td><td>141.1</td></tr><tr><td>96</td><td>Baton Rouge[21]</td><td>Louisiana</td><td>LA</td><td>228895</td><td>177.2</td></tr><tr><td>216</td><td>Lafayette[27]</td><td>Louisiana</td><td>LA</td><td>126066</td><td>null</td></tr><tr><td>50</td><td>New Orleans[17]</td><td>Louisiana</td><td>LA</td><td>384320</td><td>null</td></tr><tr><td>117</td><td>Shreveport</td><td>Louisiana</td><td>LA</td><td>198242</td><td>151.6</td></tr><tr><td>26</td><td>Baltimore[15]</td><td>Maryland</td><td>MD</td><td>622793</td><td>223.1</td></tr><tr><td>24</td><td>Boston</td><td>Massachusetts</td><td>MA</td><td>655884</td><td>374.6</td></tr><tr><td>257</td><td>Cambridge</td><td>Massachusetts</td><td>MA</td><td>109694</td><td>null</td></tr><tr><td>255</td><td>Lowell</td><td>Massachusetts</td><td>MA</td><td>109945</td><td>null</td></tr><tr><td>162</td><td>Springfield</td><td>Massachusetts</td><td>MA</td><td>153991</td><td>183.9</td></tr><tr><td>131</td><td>Worcester</td><td>Massachusetts</td><td>MA</td><td>183016</td><td>226.9</td></tr><tr><td>229</td><td>Ann Arbor</td><td>Michigan</td><td>MI</td><td>117770</td><td>null</td></tr><tr><td>18</td><td>Detroit</td><td>Michigan</td><td>MI</td><td>680250</td><td>null</td></tr><tr><td>123</td><td>Grand Rapids</td><td>Michigan</td><td>MI</td><td>193792</td><td>null</td></tr><tr><td>238</td><td>Lansing</td><td>Michigan</td><td>MI</td><td>114620</td><td>114.6</td></tr><tr><td>196</td><td>Sterling Heights</td><td>Michigan</td><td>MI</td><td>131741</td><td>null</td></tr><tr><td>191</td><td>Warren</td><td>Michigan</td><td>MI</td><td>135099</td><td>null</td></tr><tr><td>46</td><td>Minneapolis</td><td>Minnesota</td><td>MN</td><td>407207</td><td>209.4</td></tr><tr><td>249</td><td>Rochester</td><td>Minnesota</td><td>MN</td><td>111402</td><td>null</td></tr><tr><td>66</td><td>Saint Paul</td><td>Minnesota</td><td>MN</td><td>297640</td><td>null</td></tr><tr><td>143</td><td>Jackson</td><td>Mississippi</td><td>MS</td><td>171155</td><td>154.1</td></tr><tr><td>232</td><td>Columbia</td><td>Missouri</td><td>MO</td><td>116906</td><td>null</td></tr><tr><td>231</td><td>Independence</td><td>Missouri</td><td>MO</td><td>117494</td><td>null</td></tr><tr><td>37</td><td>Kansas City</td><td>Missouri</td><td>MO</td><td>470800</td><td>153.0</td></tr><tr><td>149</td><td>Springfield</td><td>Missouri</td><td>MO</td><td>165378</td><td>116.5</td></tr><tr><td>60</td><td>St. Louis[15]</td><td>Missouri</td><td>MO</td><td>317419</td><td>null</td></tr><tr><td>262</td><td>Billings</td><td>Montana</td><td>MT</td><td>108869</td><td>null</td></tr><tr><td>72</td><td>Lincoln</td><td>Nebraska</td><td>NE</td><td>272996</td><td>150.2</td></tr><tr><td>41</td><td>Omaha</td><td>Nebraska</td><td>NE</td><td>446599</td><td>148.1</td></tr><tr><td>71</td><td>Henderson</td><td>Nevada</td><td>NV</td><td>277440</td><td>null</td></tr><tr><td>29</td><td>Las Vegas</td><td>Nevada</td><td>NV</td><td>613599</td><td>205.9</td></tr><tr><td>94</td><td>North Las Vegas</td><td>Nevada</td><td>NV</td><td>230788</td><td>null</td></tr><tr><td>89</td><td>Reno</td><td>Nevada</td><td>NV</td><td>236995</td><td>268.7</td></tr><tr><td>254</td><td>Manchester</td><td>New Hampshire</td><td>NH</td><td>110448</td><td>237.4</td></tr><tr><td>204</td><td>Elizabeth</td><td>New Jersey</td><td>NJ</td><td>128705</td><td>null</td></tr><tr><td>74</td><td>Jersey City</td><td>New Jersey</td><td>NJ</td><td>262146</td><td>null</td></tr><tr><td>69</td><td>Newark</td><td>New Jersey</td><td>NJ</td><td>280579</td><td>350.8</td></tr><tr><td>177</td><td>Paterson</td><td>New Jersey</td><td>NJ</td><td>146753</td><td>null</td></tr><tr><td>32</td><td>Albuquerque</td><td>New Mexico</td><td>NM</td><td>557169</td><td>172.2</td></tr><tr><td>294</td><td>Las Cruces</td><td>New Mexico</td><td>NM</td><td>101408</td><td>null</td></tr><tr><td>76</td><td>Buffalo</td><td>New York</td><td>NY</td><td>258703</td><td>117.3</td></tr><tr><td>1</td><td>New York[6]</td><td>New York</td><td>NY</td><td>8491079</td><td>388.6</td></tr><tr><td>103</td><td>Rochester</td><td>New York</td><td>NY</td><td>209983</td><td>118.9</td></tr><tr><td>182</td><td>Syracuse</td><td>New York</td><td>NY</td><td>144263</td><td>118.3</td></tr><tr><td>113</td><td>Yonkers</td><td>New York</td><td>NY</td><td>200667</td><td>null</td></tr><tr><td>160</td><td>Cary[25]</td><td>North Carolina</td><td>NC</td><td>155227</td><td>null</td></tr><tr><td>17</td><td>Charlotte</td><td>North Carolina</td><td>NC</td><td>809958</td><td>197.2</td></tr><tr><td>81</td><td>Durham</td><td>North Carolina</td><td>NC</td><td>251893</td><td>196.9</td></tr><tr><td>109</td><td>Fayetteville</td><td>North Carolina</td><td>NC</td><td>203948</td><td>145.0</td></tr><tr><td>67</td><td>Greensboro</td><td>North Carolina</td><td>NC</td><td>282586</td><td>138.3</td></tr><tr><td>263</td><td>High Point</td><td>North Carolina</td><td>NC</td><td>108629</td><td>null</td></tr><tr><td>43</td><td>Raleigh</td><td>North Carolina</td><td>NC</td><td>439896</td><td>218.9</td></tr><tr><td>241</td><td>Wilmington</td><td>North Carolina</td><td>NC</td><td>113657</td><td>197.5</td></tr><tr><td>87</td><td>Winston�Salem</td><td>North Carolina</td><td>NC</td><td>239269</td><td>138.6</td></tr><tr><td>235</td><td>Fargo</td><td>North Dakota</td><td>ND</td><td>115863</td><td>180.0</td></tr><tr><td>118</td><td>Akron</td><td>Ohio</td><td>OH</td><td>197859</td><td>95.4</td></tr><tr><td>65</td><td>Cincinnati</td><td>Ohio</td><td>OH</td><td>298165</td><td>135.0</td></tr><tr><td>48</td><td>Cleveland</td><td>Ohio</td><td>OH</td><td>389521</td><td>105.9</td></tr><tr><td>15</td><td>Columbus</td><td>Ohio</td><td>OH</td><td>835957</td><td>149.9</td></tr><tr><td>183</td><td>Dayton</td><td>Ohio</td><td>OH</td><td>141003</td><td>107.2</td></tr><tr><td>68</td><td>Toledo</td><td>Ohio</td><td>OH</td><td>281031</td><td>83.8</td></tr><tr><td>280</td><td>Broken Arrow</td><td>Oklahoma</td><td>OK</td><td>104726</td><td>null</td></tr><tr><td>228</td><td>Norman</td><td>Oklahoma</td><td>OK</td><td>118040</td><td>null</td></tr><tr><td>27</td><td>Oklahoma City</td><td>Oklahoma</td><td>OK</td><td>620602</td><td>null</td></tr><tr><td>47</td><td>Tulsa</td><td>Oklahoma</td><td>OK</td><td>399682</td><td>145.1</td></tr><tr><td>155</td><td>Eugene</td><td>Oregon</td><td>OR</td><td>160561</td><td>211.3</td></tr><tr><td>256</td><td>Gresham</td><td>Oregon</td><td>OR</td><td>109892</td><td>null</td></tr><tr><td>28</td><td>Portland</td><td>Oregon</td><td>OR</td><td>619360</td><td>289.4</td></tr><tr><td>152</td><td>Salem</td><td>Oregon</td><td>OR</td><td>161637</td><td>193.9</td></tr><tr><td>226</td><td>Allentown</td><td>Pennsylvania</td><td>PA</td><td>119104</td><td>162.7</td></tr><tr><td>5</td><td>Philadelphia[8]</td><td>Pennsylvania</td><td>PA</td><td>1560297</td><td>204.9</td></tr><tr><td>62</td><td>Pittsburgh</td><td>Pennsylvania</td><td>PA</td><td>305412</td><td>null</td></tr><tr><td>134</td><td>Providence</td><td>Rhode Island</td><td>RI</td><td>179154</td><td>233.3</td></tr><tr><td>200</td><td>Charleston</td><td>South Carolina</td><td>SC</td><td>130113</td><td>null</td></tr><tr><td>195</td><td>Columbia</td><td>South Carolina</td><td>SC</td><td>132067</td><td>null</td></tr><tr><td>271</td><td>North Charleston</td><td>South Carolina</td><td>SC</td><td>106749</td><td>null</td></tr><tr><td>147</td><td>Sioux Falls</td><td>South Dakota</td><td>SD</td><td>168586</td><td>159.5</td></tr><tr><td>141</td><td>Chattanooga</td><td>Tennessee</td><td>TN</td><td>173778</td><td>143.6</td></tr><tr><td>176</td><td>Clarksville</td><td>Tennessee</td><td>TN</td><td>146806</td><td>null</td></tr><tr><td>129</td><td>Knoxville</td><td>Tennessee</td><td>TN</td><td>184281</td><td>149.2</td></tr><tr><td>23</td><td>Memphis</td><td>Tennessee</td><td>TN</td><td>656861</td><td>132.1</td></tr><tr><td>222</td><td>Murfreesboro</td><td>Tennessee</td><td>TN</td><td>120954</td><td>null</td></tr><tr><td>25</td><td>Nashville[14]</td><td>Tennessee</td><td>TN</td><td>644014</td><td>186.4</td></tr><tr><td>221</td><td>Abilene</td><td>Texas</td><td>TX</td><td>120958</td><td>145.7</td></tr><tr><td>120</td><td>Amarillo</td><td>Texas</td><td>TX</td><td>197254</td><td>144.4</td></tr><tr><td>51</td><td>Arlington</td><td>Texas</td><td>TX</td><td>383204</td><td>null</td></tr><tr><td>11</td><td>Austin</td><td>Texas</td><td>TX</td><td>912791</td><td>249.1</td></tr><tr><td>230</td><td>Beaumont</td><td>Texas</td><td>TX</td><td>117585</td><td>133.3</td></tr><tr><td>130</td><td>Brownsville</td><td>Texas</td><td>TX</td><td>183046</td><td>null</td></tr><tr><td>207</td><td>Carrollton</td><td>Texas</td><td>TX</td><td>128353</td><td>null</td></tr><tr><td>282</td><td>College Station</td><td>Texas</td><td>TX</td><td>103483</td><td>null</td></tr><tr><td>58</td><td>Corpus Christi</td><td>Texas</td><td>TX</td><td>320434</td><td>172.9</td></tr><tr><td>9</td><td>Dallas</td><td>Texas</td><td>TX</td><td>1281047</td><td>192.5</td></tr><tr><td>209</td><td>Denton</td><td>Texas</td><td>TX</td><td>128205</td><td>null</td></tr><tr><td>19</td><td>El Paso</td><td>Texas</td><td>TX</td><td>679036</td><td>138.4</td></tr><tr><td>16</td><td>Fort Worth</td><td>Texas</td><td>TX</td><td>812238</td><td>null</td></tr><tr><td>179</td><td>Frisco</td><td>Texas</td><td>TX</td><td>145035</td><td>null</td></tr><tr><td>91</td><td>Garland</td><td>Texas</td><td>TX</td><td>235501</td><td>null</td></tr><tr><td>127</td><td>Grand Prairie</td><td>Texas</td><td>TX</td><td>185453</td><td>null</td></tr><tr><td>4</td><td>Houston[7]</td><td>Texas</td><td>TX</td><td>2239558</td><td>200.3</td></tr><tr><td>93</td><td>Irving</td><td>Texas</td><td>TX</td><td>232406</td><td>null</td></tr><tr><td>188</td><td>Killeen</td><td>Texas</td><td>TX</td><td>138154</td><td>null</td></tr><tr><td>80</td><td>Laredo</td><td>Texas</td><td>TX</td><td>252309</td><td>null</td></tr><tr><td>287</td><td>Lewisville</td><td>Texas</td><td>TX</td><td>102889</td><td>null</td></tr><tr><td>85</td><td>Lubbock</td><td>Texas</td><td>TX</td><td>243839</td><td>null</td></tr><tr><td>187</td><td>McAllen</td><td>Texas</td><td>TX</td><td>138596</td><td>null</td></tr><tr><td>157</td><td>McKinney</td><td>Texas</td><td>TX</td><td>156767</td><td>null</td></tr><tr><td>180</td><td>Mesquite</td><td>Texas</td><td>TX</td><td>144416</td><td>null</td></tr><tr><td>210</td><td>Midland</td><td>Texas</td><td>TX</td><td>128037</td><td>null</td></tr><tr><td>239</td><td>Odessa</td><td>Texas</td><td>TX</td><td>114597</td><td>null</td></tr><tr><td>163</td><td>Pasadena</td><td>Texas</td><td>TX</td><td>153887</td><td>null</td></tr><tr><td>283</td><td>Pearland</td><td>Texas</td><td>TX</td><td>103441</td><td>null</td></tr><tr><td>70</td><td>Plano</td><td>Texas</td><td>TX</td><td>278480</td><td>null</td></tr><tr><td>264</td><td>Richardson</td><td>Texas</td><td>TX</td><td>108617</td><td>null</td></tr><tr><td>244</td><td>Round Rock</td><td>Texas</td><td>TX</td><td>112744</td><td>null</td></tr><tr><td>7</td><td>San Antonio</td><td>Texas</td><td>TX</td><td>1436697</td><td>184.7</td></tr><tr><td>293</td><td>Tyler</td><td>Texas</td><td>TX</td><td>101421</td><td>null</td></tr><tr><td>199</td><td>Waco</td><td>Texas</td><td>TX</td><td>130194</td><td>null</td></tr><tr><td>277</td><td>Wichita Falls</td><td>Texas</td><td>TX</td><td>105114</td><td>null</td></tr><tr><td>237</td><td>Provo</td><td>Utah</td><td>UT</td><td>114801</td><td>null</td></tr><tr><td>124</td><td>Salt Lake City</td><td>Utah</td><td>UT</td><td>190884</td><td>243.3</td></tr><tr><td>252</td><td>West Jordan</td><td>Utah</td><td>UT</td><td>110920</td><td>null</td></tr><tr><td>193</td><td>West Valley City</td><td>Utah</td><td>UT</td><td>134495</td><td>null</td></tr><tr><td>166</td><td>Alexandria[15]</td><td>Virginia</td><td>VA</td><td>150575</td><td>null</td></tr><tr><td>92</td><td>Chesapeake[15]</td><td>Virginia</td><td>VA</td><td>233371</td><td>null</td></tr><tr><td>189</td><td>Hampton[15]</td><td>Virginia</td><td>VA</td><td>136879</td><td>null</td></tr><tr><td>132</td><td>Newport News[15]</td><td>Virginia</td><td>VA</td><td>182965</td><td>null</td></tr><tr><td>84</td><td>Norfolk[15]</td><td>Virginia</td><td>VA</td><td>245428</td><td>null</td></tr><tr><td>98</td><td>Richmond[15]</td><td>Virginia</td><td>VA</td><td>217853</td><td>212.5</td></tr><tr><td>40</td><td>Virginia Beach[15]</td><td>Virginia</td><td>VA</td><td>450980</td><td>190.0</td></tr><tr><td>190</td><td>Bellevue</td><td>Washington</td><td>WA</td><td>136426</td><td>null</td></tr><tr><td>272</td><td>Everett</td><td>Washington</td><td>WA</td><td>106736</td><td>null</td></tr><tr><td>217</td><td>Kent</td><td>Washington</td><td>WA</td><td>125560</td><td>null</td></tr><tr><td>20</td><td>Seattle</td><td>Washington</td><td>WA</td><td>668342</td><td>352.4</td></tr><tr><td>102</td><td>Spokane</td><td>Washington</td><td>WA</td><td>212052</td><td>180.2</td></tr><tr><td>107</td><td>Tacoma</td><td>Washington</td><td>WA</td><td>205159</td><td>null</td></tr><tr><td>145</td><td>Vancouver</td><td>Washington</td><td>WA</td><td>169294</td><td>null</td></tr><tr><td>279</td><td>Green Bay</td><td>Wisconsin</td><td>WI</td><td>104891</td><td>null</td></tr><tr><td>83</td><td>Madison</td><td>Wisconsin</td><td>WI</td><td>245691</td><td>226.2</td></tr><tr><td>31</td><td>Milwaukee</td><td>Wisconsin</td><td>WI</td><td>599642</td><td>195.4</td></tr></tbody></table></div>"
      ]
     },
     "metadata": {
      "application/vnd.databricks.v1+output": {
       "addedWidgets": {},
       "aggData": [],
       "aggError": "",
       "aggOverflow": false,
       "aggSchema": [],
       "aggSeriesLimitReached": false,
       "aggType": "",
       "arguments": {},
       "columnCustomDisplayInfos": {},
       "data": [
        [
         101,
         "Birmingham",
         "Alabama",
         "AL",
         212247,
         162.9
        ],
        [
         125,
         "Huntsville",
         "Alabama",
         "AL",
         188226,
         157.7
        ],
        [
         122,
         "Mobile",
         "Alabama",
         "AL",
         194675,
         122.5
        ],
        [
         114,
         "Montgomery",
         "Alabama",
         "AL",
         200481,
         129
        ],
        [
         64,
         "Anchorage[19]",
         "Alaska",
         "AK",
         301010,
         null
        ],
        [
         78,
         "Chandler",
         "Arizona",
         "AZ",
         254276,
         null
        ],
        [
         86,
         "Gilbert[20]",
         "Arizona",
         "AZ",
         239277,
         null
        ],
        [
         88,
         "Glendale",
         "Arizona",
         "AZ",
         237517,
         null
        ],
        [
         38,
         "Mesa",
         "Arizona",
         "AZ",
         464704,
         null
        ],
        [
         148,
         "Peoria",
         "Arizona",
         "AZ",
         166934,
         null
        ],
        [
         6,
         "Phoenix",
         "Arizona",
         "AZ",
         1537058,
         206.1
        ],
        [
         95,
         "Scottsdale",
         "Arizona",
         "AZ",
         230512,
         null
        ],
        [
         215,
         "Surprise",
         "Arizona",
         "AZ",
         126275,
         null
        ],
        [
         142,
         "Tempe",
         "Arizona",
         "AZ",
         172816,
         null
        ],
        [
         33,
         "Tucson",
         "Arizona",
         "AZ",
         527972,
         178.1
        ],
        [
         119,
         "Little Rock",
         "Arkansas",
         "AR",
         197706,
         131.8
        ],
        [
         56,
         "Anaheim",
         "California",
         "CA",
         346997,
         685.7
        ],
        [
         261,
         "Antioch",
         "California",
         "CA",
         108930,
         null
        ],
        [
         52,
         "Bakersfield",
         "California",
         "CA",
         368759,
         null
        ],
        [
         227,
         "Berkeley",
         "California",
         "CA",
         118853,
         null
        ],
        [
         276,
         "Burbank",
         "California",
         "CA",
         105368,
         null
        ],
        [
         245,
         "Carlsbad",
         "California",
         "CA",
         112299,
         null
        ],
        [
         75,
         "Chula Vista",
         "California",
         "CA",
         260988,
         null
        ],
        [
         291,
         "Clovis",
         "California",
         "CA",
         102189,
         null
        ],
        [
         212,
         "Concord",
         "California",
         "CA",
         127522,
         null
        ],
        [
         153,
         "Corona",
         "California",
         "CA",
         161486,
         null
        ],
        [
         243,
         "Costa Mesa",
         "California",
         "CA",
         112784,
         null
        ],
        [
         274,
         "Daly City",
         "California",
         "CA",
         106094,
         null
        ],
        [
         240,
         "Downey",
         "California",
         "CA",
         114172,
         null
        ],
        [
         285,
         "El Cajon",
         "California",
         "CA",
         103091,
         null
        ],
        [
         234,
         "El Monte",
         "California",
         "CA",
         116631,
         null
        ],
        [
         151,
         "Elk Grove",
         "California",
         "CA",
         163553,
         null
        ],
        [
         167,
         "Escondido",
         "California",
         "CA",
         150243,
         null
        ],
        [
         250,
         "Fairfield",
         "California",
         "CA",
         111125,
         null
        ],
        [
         108,
         "Fontana",
         "California",
         "CA",
         204950,
         null
        ],
        [
         97,
         "Fremont",
         "California",
         "CA",
         228758,
         null
        ],
        [
         34,
         "Fresno",
         "California",
         "CA",
         515986,
         null
        ],
        [
         186,
         "Fullerton",
         "California",
         "CA",
         139677,
         null
        ],
        [
         136,
         "Garden Grove",
         "California",
         "CA",
         175078,
         null
        ],
        [
         116,
         "Glendale",
         "California",
         "CA",
         200167,
         null
        ],
        [
         161,
         "Hayward",
         "California",
         "CA",
         154612,
         null
        ],
        [
         112,
         "Huntington Beach",
         "California",
         "CA",
         200809,
         null
        ],
        [
         248,
         "Inglewood",
         "California",
         "CA",
         111905,
         null
        ],
        [
         82,
         "Irvine",
         "California",
         "CA",
         248531,
         null
        ],
        [
         154,
         "Lancaster",
         "California",
         "CA",
         161043,
         null
        ],
        [
         36,
         "Long Beach",
         "California",
         "CA",
         473577,
         null
        ],
        [
         2,
         "Los Angeles",
         "California",
         "CA",
         3928864,
         434.7
        ],
        [
         104,
         "Modesto",
         "California",
         "CA",
         209286,
         null
        ],
        [
         110,
         "Moreno Valley",
         "California",
         "CA",
         202976,
         null
        ],
        [
         268,
         "Murrieta",
         "California",
         "CA",
         108368,
         null
        ],
        [
         270,
         "Norwalk",
         "California",
         "CA",
         107096,
         null
        ],
        [
         45,
         "Oakland",
         "California",
         "CA",
         413775,
         null
        ],
        [
         137,
         "Oceanside",
         "California",
         "CA",
         174558,
         null
        ],
        [
         146,
         "Ontario",
         "California",
         "CA",
         169089,
         null
        ],
        [
         185,
         "Orange",
         "California",
         "CA",
         139812,
         null
        ],
        [
         106,
         "Oxnard",
         "California",
         "CA",
         205437,
         null
        ],
        [
         156,
         "Palmdale",
         "California",
         "CA",
         158279,
         null
        ],
        [
         184,
         "Pasadena",
         "California",
         "CA",
         140881,
         null
        ],
        [
         165,
         "Pomona",
         "California",
         "CA",
         153350,
         null
        ],
        [
         138,
         "Rancho Cucamonga",
         "California",
         "CA",
         174305,
         null
        ],
        [
         288,
         "Rialto",
         "California",
         "CA",
         102741,
         null
        ],
        [
         265,
         "Richmond",
         "California",
         "CA",
         108565,
         null
        ],
        [
         59,
         "Riverside",
         "California",
         "CA",
         319504,
         281
        ],
        [
         205,
         "Roseville",
         "California",
         "CA",
         128615,
         null
        ],
        [
         35,
         "Sacramento",
         "California",
         "CA",
         485199,
         275.8
        ],
        [
         158,
         "Salinas",
         "California",
         "CA",
         156677,
         null
        ],
        [
         100,
         "San Bernardino",
         "California",
         "CA",
         215213,
         null
        ],
        [
         8,
         "San Diego",
         "California",
         "CA",
         1381069,
         510.3
        ],
        [
         13,
         "San Francisco[10]",
         "California",
         "CA",
         852469,
         748.3
        ],
        [
         10,
         "San Jose",
         "California",
         "CA",
         1015785,
         900
        ],
        [
         286,
         "San Mateo",
         "California",
         "CA",
         102893,
         null
        ],
        [
         57,
         "Santa Ana",
         "California",
         "CA",
         334909,
         null
        ],
        [
         219,
         "Santa Clara",
         "California",
         "CA",
         122192,
         null
        ],
        [
         133,
         "Santa Clarita",
         "California",
         "CA",
         181557,
         null
        ],
        [
         284,
         "Santa Maria",
         "California",
         "CA",
         103410,
         null
        ],
        [
         139,
         "Santa Rosa",
         "California",
         "CA",
         174170,
         null
        ],
        [
         214,
         "Simi Valley",
         "California",
         "CA",
         126871,
         null
        ],
        [
         63,
         "Stockton",
         "California",
         "CA",
         302389,
         null
        ],
        [
         168,
         "Sunnyvale",
         "California",
         "CA",
         149980,
         null
        ],
        [
         259,
         "Temecula",
         "California",
         "CA",
         109428,
         null
        ],
        [
         201,
         "Thousand Oaks",
         "California",
         "CA",
         129342,
         null
        ],
        [
         172,
         "Torrance",
         "California",
         "CA",
         148495,
         null
        ],
        [
         224,
         "Vallejo",
         "California",
         "CA",
         120228,
         null
        ],
        [
         258,
         "Ventura[29]",
         "California",
         "CA",
         109484,
         null
        ],
        [
         220,
         "Victorville",
         "California",
         "CA",
         121901,
         null
        ],
        [
         202,
         "Visalia",
         "California",
         "CA",
         129281,
         null
        ],
        [
         266,
         "West Covina",
         "California",
         "CA",
         108455,
         null
        ],
        [
         242,
         "Arvada",
         "Colorado",
         "CO",
         113574,
         null
        ],
        [
         54,
         "Aurora",
         "Colorado",
         "CO",
         353108,
         null
        ],
        [
         278,
         "Boulder",
         "Colorado",
         "CO",
         105112,
         442.2
        ],
        [
         269,
         "Centennial",
         "Colorado",
         "CO",
         107201,
         null
        ],
        [
         42,
         "Colorado Springs",
         "Colorado",
         "CO",
         445830,
         220.1
        ],
        [
         21,
         "Denver[12]",
         "Colorado",
         "CO",
         663862,
         338.1
        ],
        [
         159,
         "Fort Collins",
         "Colorado",
         "CO",
         156480,
         null
        ],
        [
         169,
         "Lakewood",
         "Colorado",
         "CO",
         149643,
         null
        ],
        [
         267,
         "Pueblo",
         "Colorado",
         "CO",
         108423,
         null
        ],
        [
         197,
         "Thornton",
         "Colorado",
         "CO",
         130307,
         null
        ],
        [
         247,
         "Westminster",
         "Colorado",
         "CO",
         112090,
         null
        ],
        [
         175,
         "Bridgeport",
         "Connecticut",
         "CT",
         147612,
         342.7
        ],
        [
         218,
         "Hartford",
         "Connecticut",
         "CT",
         124705,
         202.6
        ],
        [
         198,
         "New Haven",
         "Connecticut",
         "CT",
         130282,
         205.1
        ],
        [
         208,
         "Stamford",
         "Connecticut",
         "CT",
         128278,
         null
        ],
        [
         260,
         "Waterbury",
         "Connecticut",
         "CT",
         109307,
         null
        ],
        [
         22,
         "Washington[13]",
         "District of Columbia",
         "DC",
         658893,
         367.8
        ],
        [
         144,
         "Cape Coral",
         "Florida",
         "FL",
         169854,
         208
        ],
        [
         253,
         "Clearwater",
         "Florida",
         "FL",
         110703,
         null
        ],
        [
         211,
         "Coral Springs",
         "Florida",
         "FL",
         127952,
         null
        ],
        [
         135,
         "Fort Lauderdale",
         "Florida",
         "FL",
         176013,
         null
        ],
        [
         206,
         "Gainesville",
         "Florida",
         "FL",
         128460,
         169.9
        ],
        [
         90,
         "Hialeah",
         "Florida",
         "FL",
         235563,
         null
        ],
        [
         173,
         "Hollywood",
         "Florida",
         "FL",
         148047,
         null
        ],
        [
         12,
         "Jacksonville[9]",
         "Florida",
         "FL",
         853382,
         182.5
        ],
        [
         290,
         "Lakeland",
         "Florida",
         "FL",
         102346,
         136
        ],
        [
         44,
         "Miami",
         "Florida",
         "FL",
         430332,
         269.1
        ],
        [
         246,
         "Miami Gardens",
         "Florida",
         "FL",
         112265,
         null
        ],
        [
         192,
         "Miramar",
         "Florida",
         "FL",
         134989,
         null
        ],
        [
         73,
         "Orlando",
         "Florida",
         "FL",
         262372,
         null
        ],
        [
         275,
         "Palm Bay",
         "Florida",
         "FL",
         105838,
         145
        ],
        [
         150,
         "Pembroke Pines",
         "Florida",
         "FL",
         164626,
         null
        ],
        [
         273,
         "Pompano Beach",
         "Florida",
         "FL",
         106105,
         null
        ],
        [
         140,
         "Port St. Lucie",
         "Florida",
         "FL",
         174110,
         172
        ],
        [
         79,
         "St. Petersburg",
         "Florida",
         "FL",
         253693,
         null
        ],
        [
         126,
         "Tallahassee",
         "Florida",
         "FL",
         188107,
         170.5
        ],
        [
         53,
         "Tampa",
         "Florida",
         "FL",
         358699,
         156
        ],
        [
         281,
         "West Palm Beach",
         "Florida",
         "FL",
         104031,
         null
        ],
        [
         225,
         "Athens[28]",
         "Georgia",
         "GA",
         119648,
         null
        ],
        [
         39,
         "Atlanta",
         "Georgia",
         "GA",
         456002,
         158
        ],
        [
         121,
         "Augusta[24]",
         "Georgia",
         "GA",
         196741,
         null
        ],
        [
         111,
         "Columbus[23]",
         "Georgia",
         "GA",
         200887,
         null
        ],
        [
         164,
         "Macon",
         "Georgia",
         "GA",
         null,
         null
        ],
        [
         292,
         "Sandy Springs",
         "Georgia",
         "GA",
         101908,
         null
        ],
        [
         181,
         "Savannah",
         "Georgia",
         "GA",
         144352,
         null
        ],
        [
         55,
         "Honolulu[2]",
         "Hawai'i",
         "HI",
         350399,
         699.3
        ],
        [
         99,
         "Boise[22]",
         "Idaho",
         "ID",
         216282,
         178.7
        ],
        [
         115,
         "Aurora",
         "Illinois",
         "IL",
         200456,
         null
        ],
        [
         3,
         "Chicago",
         "Illinois",
         "IL",
         2722389,
         192.5
        ],
        [
         251,
         "Elgin",
         "Illinois",
         "IL",
         111117,
         null
        ],
        [
         174,
         "Joliet",
         "Illinois",
         "IL",
         147928,
         null
        ],
        [
         178,
         "Naperville",
         "Illinois",
         "IL",
         146128,
         null
        ],
        [
         236,
         "Peoria",
         "Illinois",
         "IL",
         115828,
         105.2
        ],
        [
         171,
         "Rockford",
         "Illinois",
         "IL",
         149123,
         78.6
        ],
        [
         233,
         "Springfield",
         "Illinois",
         "IL",
         116809,
         115.2
        ],
        [
         223,
         "Evansville",
         "Indiana",
         "IN",
         120346,
         null
        ],
        [
         77,
         "Fort Wayne",
         "Indiana",
         "IN",
         258522,
         106.3
        ],
        [
         14,
         "Indianapolis[11]",
         "Indiana",
         "IN",
         848788,
         139.2
        ],
        [
         203,
         "Cedar Rapids",
         "Iowa",
         "IA",
         129195,
         156.9
        ],
        [
         289,
         "Davenport",
         "Iowa",
         "IA",
         102448,
         109.4
        ],
        [
         105,
         "Des Moines",
         "Iowa",
         "IA",
         209220,
         null
        ],
        [
         170,
         "Kansas City[26]",
         "Kansas",
         "KS",
         149636,
         null
        ],
        [
         194,
         "Olathe",
         "Kansas",
         "KS",
         133062,
         null
        ],
        [
         128,
         "Overland Park",
         "Kansas",
         "KS",
         184525,
         null
        ],
        [
         213,
         "Topeka",
         "Kansas",
         "KS",
         127215,
         105.3
        ],
        [
         49,
         "Wichita",
         "Kansas",
         "KS",
         388413,
         126
        ],
        [
         61,
         "Lexington[18]",
         "Kentucky",
         "KY",
         310797,
         141.2
        ],
        [
         30,
         "Louisville[16]",
         "Kentucky",
         "KY",
         612780,
         141.1
        ],
        [
         96,
         "Baton Rouge[21]",
         "Louisiana",
         "LA",
         228895,
         177.2
        ],
        [
         216,
         "Lafayette[27]",
         "Louisiana",
         "LA",
         126066,
         null
        ],
        [
         50,
         "New Orleans[17]",
         "Louisiana",
         "LA",
         384320,
         null
        ],
        [
         117,
         "Shreveport",
         "Louisiana",
         "LA",
         198242,
         151.6
        ],
        [
         26,
         "Baltimore[15]",
         "Maryland",
         "MD",
         622793,
         223.1
        ],
        [
         24,
         "Boston",
         "Massachusetts",
         "MA",
         655884,
         374.6
        ],
        [
         257,
         "Cambridge",
         "Massachusetts",
         "MA",
         109694,
         null
        ],
        [
         255,
         "Lowell",
         "Massachusetts",
         "MA",
         109945,
         null
        ],
        [
         162,
         "Springfield",
         "Massachusetts",
         "MA",
         153991,
         183.9
        ],
        [
         131,
         "Worcester",
         "Massachusetts",
         "MA",
         183016,
         226.9
        ],
        [
         229,
         "Ann Arbor",
         "Michigan",
         "MI",
         117770,
         null
        ],
        [
         18,
         "Detroit",
         "Michigan",
         "MI",
         680250,
         null
        ],
        [
         123,
         "Grand Rapids",
         "Michigan",
         "MI",
         193792,
         null
        ],
        [
         238,
         "Lansing",
         "Michigan",
         "MI",
         114620,
         114.6
        ],
        [
         196,
         "Sterling Heights",
         "Michigan",
         "MI",
         131741,
         null
        ],
        [
         191,
         "Warren",
         "Michigan",
         "MI",
         135099,
         null
        ],
        [
         46,
         "Minneapolis",
         "Minnesota",
         "MN",
         407207,
         209.4
        ],
        [
         249,
         "Rochester",
         "Minnesota",
         "MN",
         111402,
         null
        ],
        [
         66,
         "Saint Paul",
         "Minnesota",
         "MN",
         297640,
         null
        ],
        [
         143,
         "Jackson",
         "Mississippi",
         "MS",
         171155,
         154.1
        ],
        [
         232,
         "Columbia",
         "Missouri",
         "MO",
         116906,
         null
        ],
        [
         231,
         "Independence",
         "Missouri",
         "MO",
         117494,
         null
        ],
        [
         37,
         "Kansas City",
         "Missouri",
         "MO",
         470800,
         153
        ],
        [
         149,
         "Springfield",
         "Missouri",
         "MO",
         165378,
         116.5
        ],
        [
         60,
         "St. Louis[15]",
         "Missouri",
         "MO",
         317419,
         null
        ],
        [
         262,
         "Billings",
         "Montana",
         "MT",
         108869,
         null
        ],
        [
         72,
         "Lincoln",
         "Nebraska",
         "NE",
         272996,
         150.2
        ],
        [
         41,
         "Omaha",
         "Nebraska",
         "NE",
         446599,
         148.1
        ],
        [
         71,
         "Henderson",
         "Nevada",
         "NV",
         277440,
         null
        ],
        [
         29,
         "Las Vegas",
         "Nevada",
         "NV",
         613599,
         205.9
        ],
        [
         94,
         "North Las Vegas",
         "Nevada",
         "NV",
         230788,
         null
        ],
        [
         89,
         "Reno",
         "Nevada",
         "NV",
         236995,
         268.7
        ],
        [
         254,
         "Manchester",
         "New Hampshire",
         "NH",
         110448,
         237.4
        ],
        [
         204,
         "Elizabeth",
         "New Jersey",
         "NJ",
         128705,
         null
        ],
        [
         74,
         "Jersey City",
         "New Jersey",
         "NJ",
         262146,
         null
        ],
        [
         69,
         "Newark",
         "New Jersey",
         "NJ",
         280579,
         350.8
        ],
        [
         177,
         "Paterson",
         "New Jersey",
         "NJ",
         146753,
         null
        ],
        [
         32,
         "Albuquerque",
         "New Mexico",
         "NM",
         557169,
         172.2
        ],
        [
         294,
         "Las Cruces",
         "New Mexico",
         "NM",
         101408,
         null
        ],
        [
         76,
         "Buffalo",
         "New York",
         "NY",
         258703,
         117.3
        ],
        [
         1,
         "New York[6]",
         "New York",
         "NY",
         8491079,
         388.6
        ],
        [
         103,
         "Rochester",
         "New York",
         "NY",
         209983,
         118.9
        ],
        [
         182,
         "Syracuse",
         "New York",
         "NY",
         144263,
         118.3
        ],
        [
         113,
         "Yonkers",
         "New York",
         "NY",
         200667,
         null
        ],
        [
         160,
         "Cary[25]",
         "North Carolina",
         "NC",
         155227,
         null
        ],
        [
         17,
         "Charlotte",
         "North Carolina",
         "NC",
         809958,
         197.2
        ],
        [
         81,
         "Durham",
         "North Carolina",
         "NC",
         251893,
         196.9
        ],
        [
         109,
         "Fayetteville",
         "North Carolina",
         "NC",
         203948,
         145
        ],
        [
         67,
         "Greensboro",
         "North Carolina",
         "NC",
         282586,
         138.3
        ],
        [
         263,
         "High Point",
         "North Carolina",
         "NC",
         108629,
         null
        ],
        [
         43,
         "Raleigh",
         "North Carolina",
         "NC",
         439896,
         218.9
        ],
        [
         241,
         "Wilmington",
         "North Carolina",
         "NC",
         113657,
         197.5
        ],
        [
         87,
         "Winston�Salem",
         "North Carolina",
         "NC",
         239269,
         138.6
        ],
        [
         235,
         "Fargo",
         "North Dakota",
         "ND",
         115863,
         180
        ],
        [
         118,
         "Akron",
         "Ohio",
         "OH",
         197859,
         95.4
        ],
        [
         65,
         "Cincinnati",
         "Ohio",
         "OH",
         298165,
         135
        ],
        [
         48,
         "Cleveland",
         "Ohio",
         "OH",
         389521,
         105.9
        ],
        [
         15,
         "Columbus",
         "Ohio",
         "OH",
         835957,
         149.9
        ],
        [
         183,
         "Dayton",
         "Ohio",
         "OH",
         141003,
         107.2
        ],
        [
         68,
         "Toledo",
         "Ohio",
         "OH",
         281031,
         83.8
        ],
        [
         280,
         "Broken Arrow",
         "Oklahoma",
         "OK",
         104726,
         null
        ],
        [
         228,
         "Norman",
         "Oklahoma",
         "OK",
         118040,
         null
        ],
        [
         27,
         "Oklahoma City",
         "Oklahoma",
         "OK",
         620602,
         null
        ],
        [
         47,
         "Tulsa",
         "Oklahoma",
         "OK",
         399682,
         145.1
        ],
        [
         155,
         "Eugene",
         "Oregon",
         "OR",
         160561,
         211.3
        ],
        [
         256,
         "Gresham",
         "Oregon",
         "OR",
         109892,
         null
        ],
        [
         28,
         "Portland",
         "Oregon",
         "OR",
         619360,
         289.4
        ],
        [
         152,
         "Salem",
         "Oregon",
         "OR",
         161637,
         193.9
        ],
        [
         226,
         "Allentown",
         "Pennsylvania",
         "PA",
         119104,
         162.7
        ],
        [
         5,
         "Philadelphia[8]",
         "Pennsylvania",
         "PA",
         1560297,
         204.9
        ],
        [
         62,
         "Pittsburgh",
         "Pennsylvania",
         "PA",
         305412,
         null
        ],
        [
         134,
         "Providence",
         "Rhode Island",
         "RI",
         179154,
         233.3
        ],
        [
         200,
         "Charleston",
         "South Carolina",
         "SC",
         130113,
         null
        ],
        [
         195,
         "Columbia",
         "South Carolina",
         "SC",
         132067,
         null
        ],
        [
         271,
         "North Charleston",
         "South Carolina",
         "SC",
         106749,
         null
        ],
        [
         147,
         "Sioux Falls",
         "South Dakota",
         "SD",
         168586,
         159.5
        ],
        [
         141,
         "Chattanooga",
         "Tennessee",
         "TN",
         173778,
         143.6
        ],
        [
         176,
         "Clarksville",
         "Tennessee",
         "TN",
         146806,
         null
        ],
        [
         129,
         "Knoxville",
         "Tennessee",
         "TN",
         184281,
         149.2
        ],
        [
         23,
         "Memphis",
         "Tennessee",
         "TN",
         656861,
         132.1
        ],
        [
         222,
         "Murfreesboro",
         "Tennessee",
         "TN",
         120954,
         null
        ],
        [
         25,
         "Nashville[14]",
         "Tennessee",
         "TN",
         644014,
         186.4
        ],
        [
         221,
         "Abilene",
         "Texas",
         "TX",
         120958,
         145.7
        ],
        [
         120,
         "Amarillo",
         "Texas",
         "TX",
         197254,
         144.4
        ],
        [
         51,
         "Arlington",
         "Texas",
         "TX",
         383204,
         null
        ],
        [
         11,
         "Austin",
         "Texas",
         "TX",
         912791,
         249.1
        ],
        [
         230,
         "Beaumont",
         "Texas",
         "TX",
         117585,
         133.3
        ],
        [
         130,
         "Brownsville",
         "Texas",
         "TX",
         183046,
         null
        ],
        [
         207,
         "Carrollton",
         "Texas",
         "TX",
         128353,
         null
        ],
        [
         282,
         "College Station",
         "Texas",
         "TX",
         103483,
         null
        ],
        [
         58,
         "Corpus Christi",
         "Texas",
         "TX",
         320434,
         172.9
        ],
        [
         9,
         "Dallas",
         "Texas",
         "TX",
         1281047,
         192.5
        ],
        [
         209,
         "Denton",
         "Texas",
         "TX",
         128205,
         null
        ],
        [
         19,
         "El Paso",
         "Texas",
         "TX",
         679036,
         138.4
        ],
        [
         16,
         "Fort Worth",
         "Texas",
         "TX",
         812238,
         null
        ],
        [
         179,
         "Frisco",
         "Texas",
         "TX",
         145035,
         null
        ],
        [
         91,
         "Garland",
         "Texas",
         "TX",
         235501,
         null
        ],
        [
         127,
         "Grand Prairie",
         "Texas",
         "TX",
         185453,
         null
        ],
        [
         4,
         "Houston[7]",
         "Texas",
         "TX",
         2239558,
         200.3
        ],
        [
         93,
         "Irving",
         "Texas",
         "TX",
         232406,
         null
        ],
        [
         188,
         "Killeen",
         "Texas",
         "TX",
         138154,
         null
        ],
        [
         80,
         "Laredo",
         "Texas",
         "TX",
         252309,
         null
        ],
        [
         287,
         "Lewisville",
         "Texas",
         "TX",
         102889,
         null
        ],
        [
         85,
         "Lubbock",
         "Texas",
         "TX",
         243839,
         null
        ],
        [
         187,
         "McAllen",
         "Texas",
         "TX",
         138596,
         null
        ],
        [
         157,
         "McKinney",
         "Texas",
         "TX",
         156767,
         null
        ],
        [
         180,
         "Mesquite",
         "Texas",
         "TX",
         144416,
         null
        ],
        [
         210,
         "Midland",
         "Texas",
         "TX",
         128037,
         null
        ],
        [
         239,
         "Odessa",
         "Texas",
         "TX",
         114597,
         null
        ],
        [
         163,
         "Pasadena",
         "Texas",
         "TX",
         153887,
         null
        ],
        [
         283,
         "Pearland",
         "Texas",
         "TX",
         103441,
         null
        ],
        [
         70,
         "Plano",
         "Texas",
         "TX",
         278480,
         null
        ],
        [
         264,
         "Richardson",
         "Texas",
         "TX",
         108617,
         null
        ],
        [
         244,
         "Round Rock",
         "Texas",
         "TX",
         112744,
         null
        ],
        [
         7,
         "San Antonio",
         "Texas",
         "TX",
         1436697,
         184.7
        ],
        [
         293,
         "Tyler",
         "Texas",
         "TX",
         101421,
         null
        ],
        [
         199,
         "Waco",
         "Texas",
         "TX",
         130194,
         null
        ],
        [
         277,
         "Wichita Falls",
         "Texas",
         "TX",
         105114,
         null
        ],
        [
         237,
         "Provo",
         "Utah",
         "UT",
         114801,
         null
        ],
        [
         124,
         "Salt Lake City",
         "Utah",
         "UT",
         190884,
         243.3
        ],
        [
         252,
         "West Jordan",
         "Utah",
         "UT",
         110920,
         null
        ],
        [
         193,
         "West Valley City",
         "Utah",
         "UT",
         134495,
         null
        ],
        [
         166,
         "Alexandria[15]",
         "Virginia",
         "VA",
         150575,
         null
        ],
        [
         92,
         "Chesapeake[15]",
         "Virginia",
         "VA",
         233371,
         null
        ],
        [
         189,
         "Hampton[15]",
         "Virginia",
         "VA",
         136879,
         null
        ],
        [
         132,
         "Newport News[15]",
         "Virginia",
         "VA",
         182965,
         null
        ],
        [
         84,
         "Norfolk[15]",
         "Virginia",
         "VA",
         245428,
         null
        ],
        [
         98,
         "Richmond[15]",
         "Virginia",
         "VA",
         217853,
         212.5
        ],
        [
         40,
         "Virginia Beach[15]",
         "Virginia",
         "VA",
         450980,
         190
        ],
        [
         190,
         "Bellevue",
         "Washington",
         "WA",
         136426,
         null
        ],
        [
         272,
         "Everett",
         "Washington",
         "WA",
         106736,
         null
        ],
        [
         217,
         "Kent",
         "Washington",
         "WA",
         125560,
         null
        ],
        [
         20,
         "Seattle",
         "Washington",
         "WA",
         668342,
         352.4
        ],
        [
         102,
         "Spokane",
         "Washington",
         "WA",
         212052,
         180.2
        ],
        [
         107,
         "Tacoma",
         "Washington",
         "WA",
         205159,
         null
        ],
        [
         145,
         "Vancouver",
         "Washington",
         "WA",
         169294,
         null
        ],
        [
         279,
         "Green Bay",
         "Wisconsin",
         "WI",
         104891,
         null
        ],
        [
         83,
         "Madison",
         "Wisconsin",
         "WI",
         245691,
         226.2
        ],
        [
         31,
         "Milwaukee",
         "Wisconsin",
         "WI",
         599642,
         195.4
        ]
       ],
       "datasetInfos": [],
       "dbfsResultPath": null,
       "isJsonSchema": true,
       "metadata": {},
       "overflow": false,
       "plotOptions": {
        "customPlotOptions": {},
        "displayType": "table",
        "pivotAggregation": null,
        "pivotColumns": null,
        "xColumns": null,
        "yColumns": null
       },
       "removedWidgets": [],
       "schema": [
        {
         "metadata": "{}",
         "name": "2014 rank",
         "type": "\"integer\""
        },
        {
         "metadata": "{}",
         "name": "City",
         "type": "\"string\""
        },
        {
         "metadata": "{}",
         "name": "State",
         "type": "\"string\""
        },
        {
         "metadata": "{}",
         "name": "State Code",
         "type": "\"string\""
        },
        {
         "metadata": "{}",
         "name": "2014 Population estimate",
         "type": "\"integer\""
        },
        {
         "metadata": "{}",
         "name": "2015 median sales price",
         "type": "\"double\""
        }
       ],
       "type": "table"
      }
     },
     "output_type": "display_data"
    }
   ],
   "source": [
    "display(data)"
   ]
  },
  {
   "cell_type": "markdown",
   "metadata": {
    "application/vnd.databricks.v1+cell": {
     "cellMetadata": {},
     "inputWidgets": {},
     "nuid": "a0f8f9b2-fb8a-48d4-88a3-b2229546d160",
     "showTitle": false,
     "tableResultSettingsMap": {},
     "title": ""
    }
   },
   "source": [
    "## Prepare and visualize data\n",
    "\n",
    "In this linear regression example, the label is the 2015 median sales price and the feature is the 2014 Population Estimate. That is, you use the feature (population) to predict the label (sales price)."
   ]
  },
  {
   "cell_type": "code",
   "execution_count": null,
   "metadata": {
    "application/vnd.databricks.v1+cell": {
     "cellMetadata": {
      "byteLimit": 2048000,
      "rowLimit": 10000
     },
     "inputWidgets": {},
     "nuid": "14fb8e5c-6f9a-4baa-9513-7a92b5a5fa5e",
     "showTitle": false,
     "tableResultSettingsMap": {},
     "title": ""
    }
   },
   "outputs": [],
   "source": [
    "from pyspark.sql.functions import col\n",
    "\n",
    "# First drop rows with missing values\n",
    "data = data.dropna() # drop rows with missing values\n",
    "# rename the feature and label columns, replacing spaces with _\n",
    "exprs = [col(column).alias(column.replace(' ', '_')) for column in data.columns]"
   ]
  },
  {
   "cell_type": "markdown",
   "metadata": {
    "application/vnd.databricks.v1+cell": {
     "cellMetadata": {},
     "inputWidgets": {},
     "nuid": "2d121f1f-c648-44b0-8132-516704133301",
     "showTitle": false,
     "tableResultSettingsMap": {},
     "title": ""
    }
   },
   "source": [
    "To simplify the creation of features, register a UDF to convert the feature (`2014_Population_estimate`) column vector to a `VectorUDT` type and apply it to the column.\n",
    "\n",
    "#### UDF = User-Defined Function\n",
    "\n",
    "Spark ships with a large catalogue of SQL functions, but real-world logic (domain-specific parsing, proprietary scoring rules, complex geo math, etc.) often isn’t covered. A UDF lets you drop into *your* language (Python, Scala, Java, R) to express that logic.\n",
    "\n",
    "Use a UDF when:  \n",
    "\n",
    "• No built-in expression can do the job.  \n",
    "• The logic is complex but not latency-critical.  \n",
    "\n",
    "**Key takeaways**\n",
    "\n",
    "• A UDF extends Spark’s function library with custom code.  \n",
    "• Easy to write; potentially expensive to run (serialization + no optimization).  \n",
    "• Prefer built-ins; fall back to vectorized (Pandas) UDFs or native Scala UDFs when custom logic is unavoidable."
   ]
  },
  {
   "cell_type": "code",
   "execution_count": null,
   "metadata": {
    "application/vnd.databricks.v1+cell": {
     "cellMetadata": {
      "byteLimit": 2048000,
      "rowLimit": 10000
     },
     "inputWidgets": {},
     "nuid": "b512bc66-63c2-4d43-a058-01c1b0ccee4f",
     "showTitle": false,
     "tableResultSettingsMap": {},
     "title": ""
    }
   },
   "outputs": [],
   "source": [
    "from pyspark.ml.linalg import Vectors, VectorUDT\n",
    "\n",
    "spark.udf.register(\"oneElementVec\", lambda d: Vectors.dense([d]), returnType=VectorUDT())\n",
    "tdata = data.select(*exprs).selectExpr(\"oneElementVec(2014_Population_estimate) as features\", \"2015_median_sales_price as label\")"
   ]
  },
  {
   "cell_type": "code",
   "execution_count": null,
   "metadata": {
    "application/vnd.databricks.v1+cell": {
     "cellMetadata": {
      "byteLimit": 2048000,
      "rowLimit": 10000
     },
     "inputWidgets": {},
     "nuid": "6dab742d-e32c-4349-89f6-8c1d5a4a2ea4",
     "showTitle": false,
     "tableResultSettingsMap": {},
     "title": ""
    }
   },
   "outputs": [
    {
     "data": {
      "text/html": [
       "<style scoped>\n",
       "  .table-result-container {\n",
       "    max-height: 300px;\n",
       "    overflow: auto;\n",
       "  }\n",
       "  table, th, td {\n",
       "    border: 1px solid black;\n",
       "    border-collapse: collapse;\n",
       "  }\n",
       "  th, td {\n",
       "    padding: 5px;\n",
       "  }\n",
       "  th {\n",
       "    text-align: left;\n",
       "  }\n",
       "</style><div class='table-result-container'><table class='table-result'><thead style='background-color: white'><tr><th>features</th><th>label</th></tr></thead><tbody><tr><td>{\"type\":\"1\",\"size\":null,\"indices\":null,\"values\":[\"212247.0\"]}</td><td>162.9</td></tr><tr><td>{\"type\":\"1\",\"size\":null,\"indices\":null,\"values\":[\"188226.0\"]}</td><td>157.7</td></tr><tr><td>{\"type\":\"1\",\"size\":null,\"indices\":null,\"values\":[\"194675.0\"]}</td><td>122.5</td></tr><tr><td>{\"type\":\"1\",\"size\":null,\"indices\":null,\"values\":[\"200481.0\"]}</td><td>129.0</td></tr><tr><td>{\"type\":\"1\",\"size\":null,\"indices\":null,\"values\":[\"1537058.0\"]}</td><td>206.1</td></tr><tr><td>{\"type\":\"1\",\"size\":null,\"indices\":null,\"values\":[\"527972.0\"]}</td><td>178.1</td></tr><tr><td>{\"type\":\"1\",\"size\":null,\"indices\":null,\"values\":[\"197706.0\"]}</td><td>131.8</td></tr><tr><td>{\"type\":\"1\",\"size\":null,\"indices\":null,\"values\":[\"346997.0\"]}</td><td>685.7</td></tr><tr><td>{\"type\":\"1\",\"size\":null,\"indices\":null,\"values\":[\"3928864.0\"]}</td><td>434.7</td></tr><tr><td>{\"type\":\"1\",\"size\":null,\"indices\":null,\"values\":[\"319504.0\"]}</td><td>281.0</td></tr><tr><td>{\"type\":\"1\",\"size\":null,\"indices\":null,\"values\":[\"485199.0\"]}</td><td>275.8</td></tr><tr><td>{\"type\":\"1\",\"size\":null,\"indices\":null,\"values\":[\"1381069.0\"]}</td><td>510.3</td></tr><tr><td>{\"type\":\"1\",\"size\":null,\"indices\":null,\"values\":[\"852469.0\"]}</td><td>748.3</td></tr><tr><td>{\"type\":\"1\",\"size\":null,\"indices\":null,\"values\":[\"1015785.0\"]}</td><td>900.0</td></tr><tr><td>{\"type\":\"1\",\"size\":null,\"indices\":null,\"values\":[\"105112.0\"]}</td><td>442.2</td></tr><tr><td>{\"type\":\"1\",\"size\":null,\"indices\":null,\"values\":[\"445830.0\"]}</td><td>220.1</td></tr><tr><td>{\"type\":\"1\",\"size\":null,\"indices\":null,\"values\":[\"663862.0\"]}</td><td>338.1</td></tr><tr><td>{\"type\":\"1\",\"size\":null,\"indices\":null,\"values\":[\"147612.0\"]}</td><td>342.7</td></tr><tr><td>{\"type\":\"1\",\"size\":null,\"indices\":null,\"values\":[\"124705.0\"]}</td><td>202.6</td></tr><tr><td>{\"type\":\"1\",\"size\":null,\"indices\":null,\"values\":[\"130282.0\"]}</td><td>205.1</td></tr><tr><td>{\"type\":\"1\",\"size\":null,\"indices\":null,\"values\":[\"658893.0\"]}</td><td>367.8</td></tr><tr><td>{\"type\":\"1\",\"size\":null,\"indices\":null,\"values\":[\"169854.0\"]}</td><td>208.0</td></tr><tr><td>{\"type\":\"1\",\"size\":null,\"indices\":null,\"values\":[\"128460.0\"]}</td><td>169.9</td></tr><tr><td>{\"type\":\"1\",\"size\":null,\"indices\":null,\"values\":[\"853382.0\"]}</td><td>182.5</td></tr><tr><td>{\"type\":\"1\",\"size\":null,\"indices\":null,\"values\":[\"102346.0\"]}</td><td>136.0</td></tr><tr><td>{\"type\":\"1\",\"size\":null,\"indices\":null,\"values\":[\"430332.0\"]}</td><td>269.1</td></tr><tr><td>{\"type\":\"1\",\"size\":null,\"indices\":null,\"values\":[\"105838.0\"]}</td><td>145.0</td></tr><tr><td>{\"type\":\"1\",\"size\":null,\"indices\":null,\"values\":[\"174110.0\"]}</td><td>172.0</td></tr><tr><td>{\"type\":\"1\",\"size\":null,\"indices\":null,\"values\":[\"188107.0\"]}</td><td>170.5</td></tr><tr><td>{\"type\":\"1\",\"size\":null,\"indices\":null,\"values\":[\"358699.0\"]}</td><td>156.0</td></tr><tr><td>{\"type\":\"1\",\"size\":null,\"indices\":null,\"values\":[\"456002.0\"]}</td><td>158.0</td></tr><tr><td>{\"type\":\"1\",\"size\":null,\"indices\":null,\"values\":[\"350399.0\"]}</td><td>699.3</td></tr><tr><td>{\"type\":\"1\",\"size\":null,\"indices\":null,\"values\":[\"216282.0\"]}</td><td>178.7</td></tr><tr><td>{\"type\":\"1\",\"size\":null,\"indices\":null,\"values\":[\"2722389.0\"]}</td><td>192.5</td></tr><tr><td>{\"type\":\"1\",\"size\":null,\"indices\":null,\"values\":[\"115828.0\"]}</td><td>105.2</td></tr><tr><td>{\"type\":\"1\",\"size\":null,\"indices\":null,\"values\":[\"149123.0\"]}</td><td>78.6</td></tr><tr><td>{\"type\":\"1\",\"size\":null,\"indices\":null,\"values\":[\"116809.0\"]}</td><td>115.2</td></tr><tr><td>{\"type\":\"1\",\"size\":null,\"indices\":null,\"values\":[\"258522.0\"]}</td><td>106.3</td></tr><tr><td>{\"type\":\"1\",\"size\":null,\"indices\":null,\"values\":[\"848788.0\"]}</td><td>139.2</td></tr><tr><td>{\"type\":\"1\",\"size\":null,\"indices\":null,\"values\":[\"129195.0\"]}</td><td>156.9</td></tr><tr><td>{\"type\":\"1\",\"size\":null,\"indices\":null,\"values\":[\"102448.0\"]}</td><td>109.4</td></tr><tr><td>{\"type\":\"1\",\"size\":null,\"indices\":null,\"values\":[\"127215.0\"]}</td><td>105.3</td></tr><tr><td>{\"type\":\"1\",\"size\":null,\"indices\":null,\"values\":[\"388413.0\"]}</td><td>126.0</td></tr><tr><td>{\"type\":\"1\",\"size\":null,\"indices\":null,\"values\":[\"310797.0\"]}</td><td>141.2</td></tr><tr><td>{\"type\":\"1\",\"size\":null,\"indices\":null,\"values\":[\"612780.0\"]}</td><td>141.1</td></tr><tr><td>{\"type\":\"1\",\"size\":null,\"indices\":null,\"values\":[\"228895.0\"]}</td><td>177.2</td></tr><tr><td>{\"type\":\"1\",\"size\":null,\"indices\":null,\"values\":[\"198242.0\"]}</td><td>151.6</td></tr><tr><td>{\"type\":\"1\",\"size\":null,\"indices\":null,\"values\":[\"622793.0\"]}</td><td>223.1</td></tr><tr><td>{\"type\":\"1\",\"size\":null,\"indices\":null,\"values\":[\"655884.0\"]}</td><td>374.6</td></tr><tr><td>{\"type\":\"1\",\"size\":null,\"indices\":null,\"values\":[\"153991.0\"]}</td><td>183.9</td></tr><tr><td>{\"type\":\"1\",\"size\":null,\"indices\":null,\"values\":[\"183016.0\"]}</td><td>226.9</td></tr><tr><td>{\"type\":\"1\",\"size\":null,\"indices\":null,\"values\":[\"114620.0\"]}</td><td>114.6</td></tr><tr><td>{\"type\":\"1\",\"size\":null,\"indices\":null,\"values\":[\"407207.0\"]}</td><td>209.4</td></tr><tr><td>{\"type\":\"1\",\"size\":null,\"indices\":null,\"values\":[\"171155.0\"]}</td><td>154.1</td></tr><tr><td>{\"type\":\"1\",\"size\":null,\"indices\":null,\"values\":[\"470800.0\"]}</td><td>153.0</td></tr><tr><td>{\"type\":\"1\",\"size\":null,\"indices\":null,\"values\":[\"165378.0\"]}</td><td>116.5</td></tr><tr><td>{\"type\":\"1\",\"size\":null,\"indices\":null,\"values\":[\"272996.0\"]}</td><td>150.2</td></tr><tr><td>{\"type\":\"1\",\"size\":null,\"indices\":null,\"values\":[\"446599.0\"]}</td><td>148.1</td></tr><tr><td>{\"type\":\"1\",\"size\":null,\"indices\":null,\"values\":[\"613599.0\"]}</td><td>205.9</td></tr><tr><td>{\"type\":\"1\",\"size\":null,\"indices\":null,\"values\":[\"236995.0\"]}</td><td>268.7</td></tr><tr><td>{\"type\":\"1\",\"size\":null,\"indices\":null,\"values\":[\"110448.0\"]}</td><td>237.4</td></tr><tr><td>{\"type\":\"1\",\"size\":null,\"indices\":null,\"values\":[\"280579.0\"]}</td><td>350.8</td></tr><tr><td>{\"type\":\"1\",\"size\":null,\"indices\":null,\"values\":[\"557169.0\"]}</td><td>172.2</td></tr><tr><td>{\"type\":\"1\",\"size\":null,\"indices\":null,\"values\":[\"258703.0\"]}</td><td>117.3</td></tr><tr><td>{\"type\":\"1\",\"size\":null,\"indices\":null,\"values\":[\"8491079.0\"]}</td><td>388.6</td></tr><tr><td>{\"type\":\"1\",\"size\":null,\"indices\":null,\"values\":[\"209983.0\"]}</td><td>118.9</td></tr><tr><td>{\"type\":\"1\",\"size\":null,\"indices\":null,\"values\":[\"144263.0\"]}</td><td>118.3</td></tr><tr><td>{\"type\":\"1\",\"size\":null,\"indices\":null,\"values\":[\"809958.0\"]}</td><td>197.2</td></tr><tr><td>{\"type\":\"1\",\"size\":null,\"indices\":null,\"values\":[\"251893.0\"]}</td><td>196.9</td></tr><tr><td>{\"type\":\"1\",\"size\":null,\"indices\":null,\"values\":[\"203948.0\"]}</td><td>145.0</td></tr><tr><td>{\"type\":\"1\",\"size\":null,\"indices\":null,\"values\":[\"282586.0\"]}</td><td>138.3</td></tr><tr><td>{\"type\":\"1\",\"size\":null,\"indices\":null,\"values\":[\"439896.0\"]}</td><td>218.9</td></tr><tr><td>{\"type\":\"1\",\"size\":null,\"indices\":null,\"values\":[\"113657.0\"]}</td><td>197.5</td></tr><tr><td>{\"type\":\"1\",\"size\":null,\"indices\":null,\"values\":[\"239269.0\"]}</td><td>138.6</td></tr><tr><td>{\"type\":\"1\",\"size\":null,\"indices\":null,\"values\":[\"115863.0\"]}</td><td>180.0</td></tr><tr><td>{\"type\":\"1\",\"size\":null,\"indices\":null,\"values\":[\"197859.0\"]}</td><td>95.4</td></tr><tr><td>{\"type\":\"1\",\"size\":null,\"indices\":null,\"values\":[\"298165.0\"]}</td><td>135.0</td></tr><tr><td>{\"type\":\"1\",\"size\":null,\"indices\":null,\"values\":[\"389521.0\"]}</td><td>105.9</td></tr><tr><td>{\"type\":\"1\",\"size\":null,\"indices\":null,\"values\":[\"835957.0\"]}</td><td>149.9</td></tr><tr><td>{\"type\":\"1\",\"size\":null,\"indices\":null,\"values\":[\"141003.0\"]}</td><td>107.2</td></tr><tr><td>{\"type\":\"1\",\"size\":null,\"indices\":null,\"values\":[\"281031.0\"]}</td><td>83.8</td></tr><tr><td>{\"type\":\"1\",\"size\":null,\"indices\":null,\"values\":[\"399682.0\"]}</td><td>145.1</td></tr><tr><td>{\"type\":\"1\",\"size\":null,\"indices\":null,\"values\":[\"160561.0\"]}</td><td>211.3</td></tr><tr><td>{\"type\":\"1\",\"size\":null,\"indices\":null,\"values\":[\"619360.0\"]}</td><td>289.4</td></tr><tr><td>{\"type\":\"1\",\"size\":null,\"indices\":null,\"values\":[\"161637.0\"]}</td><td>193.9</td></tr><tr><td>{\"type\":\"1\",\"size\":null,\"indices\":null,\"values\":[\"119104.0\"]}</td><td>162.7</td></tr><tr><td>{\"type\":\"1\",\"size\":null,\"indices\":null,\"values\":[\"1560297.0\"]}</td><td>204.9</td></tr><tr><td>{\"type\":\"1\",\"size\":null,\"indices\":null,\"values\":[\"179154.0\"]}</td><td>233.3</td></tr><tr><td>{\"type\":\"1\",\"size\":null,\"indices\":null,\"values\":[\"168586.0\"]}</td><td>159.5</td></tr><tr><td>{\"type\":\"1\",\"size\":null,\"indices\":null,\"values\":[\"173778.0\"]}</td><td>143.6</td></tr><tr><td>{\"type\":\"1\",\"size\":null,\"indices\":null,\"values\":[\"184281.0\"]}</td><td>149.2</td></tr><tr><td>{\"type\":\"1\",\"size\":null,\"indices\":null,\"values\":[\"656861.0\"]}</td><td>132.1</td></tr><tr><td>{\"type\":\"1\",\"size\":null,\"indices\":null,\"values\":[\"644014.0\"]}</td><td>186.4</td></tr><tr><td>{\"type\":\"1\",\"size\":null,\"indices\":null,\"values\":[\"120958.0\"]}</td><td>145.7</td></tr><tr><td>{\"type\":\"1\",\"size\":null,\"indices\":null,\"values\":[\"197254.0\"]}</td><td>144.4</td></tr><tr><td>{\"type\":\"1\",\"size\":null,\"indices\":null,\"values\":[\"912791.0\"]}</td><td>249.1</td></tr><tr><td>{\"type\":\"1\",\"size\":null,\"indices\":null,\"values\":[\"117585.0\"]}</td><td>133.3</td></tr><tr><td>{\"type\":\"1\",\"size\":null,\"indices\":null,\"values\":[\"320434.0\"]}</td><td>172.9</td></tr><tr><td>{\"type\":\"1\",\"size\":null,\"indices\":null,\"values\":[\"1281047.0\"]}</td><td>192.5</td></tr><tr><td>{\"type\":\"1\",\"size\":null,\"indices\":null,\"values\":[\"679036.0\"]}</td><td>138.4</td></tr><tr><td>{\"type\":\"1\",\"size\":null,\"indices\":null,\"values\":[\"2239558.0\"]}</td><td>200.3</td></tr><tr><td>{\"type\":\"1\",\"size\":null,\"indices\":null,\"values\":[\"1436697.0\"]}</td><td>184.7</td></tr><tr><td>{\"type\":\"1\",\"size\":null,\"indices\":null,\"values\":[\"190884.0\"]}</td><td>243.3</td></tr><tr><td>{\"type\":\"1\",\"size\":null,\"indices\":null,\"values\":[\"217853.0\"]}</td><td>212.5</td></tr><tr><td>{\"type\":\"1\",\"size\":null,\"indices\":null,\"values\":[\"450980.0\"]}</td><td>190.0</td></tr><tr><td>{\"type\":\"1\",\"size\":null,\"indices\":null,\"values\":[\"668342.0\"]}</td><td>352.4</td></tr><tr><td>{\"type\":\"1\",\"size\":null,\"indices\":null,\"values\":[\"212052.0\"]}</td><td>180.2</td></tr><tr><td>{\"type\":\"1\",\"size\":null,\"indices\":null,\"values\":[\"245691.0\"]}</td><td>226.2</td></tr><tr><td>{\"type\":\"1\",\"size\":null,\"indices\":null,\"values\":[\"599642.0\"]}</td><td>195.4</td></tr></tbody></table></div>"
      ]
     },
     "metadata": {
      "application/vnd.databricks.v1+output": {
       "addedWidgets": {},
       "aggData": [],
       "aggError": "",
       "aggOverflow": false,
       "aggSchema": [],
       "aggSeriesLimitReached": false,
       "aggType": "",
       "arguments": {},
       "columnCustomDisplayInfos": {},
       "data": [
        [
         "{\"type\":\"1\",\"size\":null,\"indices\":null,\"values\":[\"212247.0\"]}",
         162.9
        ],
        [
         "{\"type\":\"1\",\"size\":null,\"indices\":null,\"values\":[\"188226.0\"]}",
         157.7
        ],
        [
         "{\"type\":\"1\",\"size\":null,\"indices\":null,\"values\":[\"194675.0\"]}",
         122.5
        ],
        [
         "{\"type\":\"1\",\"size\":null,\"indices\":null,\"values\":[\"200481.0\"]}",
         129
        ],
        [
         "{\"type\":\"1\",\"size\":null,\"indices\":null,\"values\":[\"1537058.0\"]}",
         206.1
        ],
        [
         "{\"type\":\"1\",\"size\":null,\"indices\":null,\"values\":[\"527972.0\"]}",
         178.1
        ],
        [
         "{\"type\":\"1\",\"size\":null,\"indices\":null,\"values\":[\"197706.0\"]}",
         131.8
        ],
        [
         "{\"type\":\"1\",\"size\":null,\"indices\":null,\"values\":[\"346997.0\"]}",
         685.7
        ],
        [
         "{\"type\":\"1\",\"size\":null,\"indices\":null,\"values\":[\"3928864.0\"]}",
         434.7
        ],
        [
         "{\"type\":\"1\",\"size\":null,\"indices\":null,\"values\":[\"319504.0\"]}",
         281
        ],
        [
         "{\"type\":\"1\",\"size\":null,\"indices\":null,\"values\":[\"485199.0\"]}",
         275.8
        ],
        [
         "{\"type\":\"1\",\"size\":null,\"indices\":null,\"values\":[\"1381069.0\"]}",
         510.3
        ],
        [
         "{\"type\":\"1\",\"size\":null,\"indices\":null,\"values\":[\"852469.0\"]}",
         748.3
        ],
        [
         "{\"type\":\"1\",\"size\":null,\"indices\":null,\"values\":[\"1015785.0\"]}",
         900
        ],
        [
         "{\"type\":\"1\",\"size\":null,\"indices\":null,\"values\":[\"105112.0\"]}",
         442.2
        ],
        [
         "{\"type\":\"1\",\"size\":null,\"indices\":null,\"values\":[\"445830.0\"]}",
         220.1
        ],
        [
         "{\"type\":\"1\",\"size\":null,\"indices\":null,\"values\":[\"663862.0\"]}",
         338.1
        ],
        [
         "{\"type\":\"1\",\"size\":null,\"indices\":null,\"values\":[\"147612.0\"]}",
         342.7
        ],
        [
         "{\"type\":\"1\",\"size\":null,\"indices\":null,\"values\":[\"124705.0\"]}",
         202.6
        ],
        [
         "{\"type\":\"1\",\"size\":null,\"indices\":null,\"values\":[\"130282.0\"]}",
         205.1
        ],
        [
         "{\"type\":\"1\",\"size\":null,\"indices\":null,\"values\":[\"658893.0\"]}",
         367.8
        ],
        [
         "{\"type\":\"1\",\"size\":null,\"indices\":null,\"values\":[\"169854.0\"]}",
         208
        ],
        [
         "{\"type\":\"1\",\"size\":null,\"indices\":null,\"values\":[\"128460.0\"]}",
         169.9
        ],
        [
         "{\"type\":\"1\",\"size\":null,\"indices\":null,\"values\":[\"853382.0\"]}",
         182.5
        ],
        [
         "{\"type\":\"1\",\"size\":null,\"indices\":null,\"values\":[\"102346.0\"]}",
         136
        ],
        [
         "{\"type\":\"1\",\"size\":null,\"indices\":null,\"values\":[\"430332.0\"]}",
         269.1
        ],
        [
         "{\"type\":\"1\",\"size\":null,\"indices\":null,\"values\":[\"105838.0\"]}",
         145
        ],
        [
         "{\"type\":\"1\",\"size\":null,\"indices\":null,\"values\":[\"174110.0\"]}",
         172
        ],
        [
         "{\"type\":\"1\",\"size\":null,\"indices\":null,\"values\":[\"188107.0\"]}",
         170.5
        ],
        [
         "{\"type\":\"1\",\"size\":null,\"indices\":null,\"values\":[\"358699.0\"]}",
         156
        ],
        [
         "{\"type\":\"1\",\"size\":null,\"indices\":null,\"values\":[\"456002.0\"]}",
         158
        ],
        [
         "{\"type\":\"1\",\"size\":null,\"indices\":null,\"values\":[\"350399.0\"]}",
         699.3
        ],
        [
         "{\"type\":\"1\",\"size\":null,\"indices\":null,\"values\":[\"216282.0\"]}",
         178.7
        ],
        [
         "{\"type\":\"1\",\"size\":null,\"indices\":null,\"values\":[\"2722389.0\"]}",
         192.5
        ],
        [
         "{\"type\":\"1\",\"size\":null,\"indices\":null,\"values\":[\"115828.0\"]}",
         105.2
        ],
        [
         "{\"type\":\"1\",\"size\":null,\"indices\":null,\"values\":[\"149123.0\"]}",
         78.6
        ],
        [
         "{\"type\":\"1\",\"size\":null,\"indices\":null,\"values\":[\"116809.0\"]}",
         115.2
        ],
        [
         "{\"type\":\"1\",\"size\":null,\"indices\":null,\"values\":[\"258522.0\"]}",
         106.3
        ],
        [
         "{\"type\":\"1\",\"size\":null,\"indices\":null,\"values\":[\"848788.0\"]}",
         139.2
        ],
        [
         "{\"type\":\"1\",\"size\":null,\"indices\":null,\"values\":[\"129195.0\"]}",
         156.9
        ],
        [
         "{\"type\":\"1\",\"size\":null,\"indices\":null,\"values\":[\"102448.0\"]}",
         109.4
        ],
        [
         "{\"type\":\"1\",\"size\":null,\"indices\":null,\"values\":[\"127215.0\"]}",
         105.3
        ],
        [
         "{\"type\":\"1\",\"size\":null,\"indices\":null,\"values\":[\"388413.0\"]}",
         126
        ],
        [
         "{\"type\":\"1\",\"size\":null,\"indices\":null,\"values\":[\"310797.0\"]}",
         141.2
        ],
        [
         "{\"type\":\"1\",\"size\":null,\"indices\":null,\"values\":[\"612780.0\"]}",
         141.1
        ],
        [
         "{\"type\":\"1\",\"size\":null,\"indices\":null,\"values\":[\"228895.0\"]}",
         177.2
        ],
        [
         "{\"type\":\"1\",\"size\":null,\"indices\":null,\"values\":[\"198242.0\"]}",
         151.6
        ],
        [
         "{\"type\":\"1\",\"size\":null,\"indices\":null,\"values\":[\"622793.0\"]}",
         223.1
        ],
        [
         "{\"type\":\"1\",\"size\":null,\"indices\":null,\"values\":[\"655884.0\"]}",
         374.6
        ],
        [
         "{\"type\":\"1\",\"size\":null,\"indices\":null,\"values\":[\"153991.0\"]}",
         183.9
        ],
        [
         "{\"type\":\"1\",\"size\":null,\"indices\":null,\"values\":[\"183016.0\"]}",
         226.9
        ],
        [
         "{\"type\":\"1\",\"size\":null,\"indices\":null,\"values\":[\"114620.0\"]}",
         114.6
        ],
        [
         "{\"type\":\"1\",\"size\":null,\"indices\":null,\"values\":[\"407207.0\"]}",
         209.4
        ],
        [
         "{\"type\":\"1\",\"size\":null,\"indices\":null,\"values\":[\"171155.0\"]}",
         154.1
        ],
        [
         "{\"type\":\"1\",\"size\":null,\"indices\":null,\"values\":[\"470800.0\"]}",
         153
        ],
        [
         "{\"type\":\"1\",\"size\":null,\"indices\":null,\"values\":[\"165378.0\"]}",
         116.5
        ],
        [
         "{\"type\":\"1\",\"size\":null,\"indices\":null,\"values\":[\"272996.0\"]}",
         150.2
        ],
        [
         "{\"type\":\"1\",\"size\":null,\"indices\":null,\"values\":[\"446599.0\"]}",
         148.1
        ],
        [
         "{\"type\":\"1\",\"size\":null,\"indices\":null,\"values\":[\"613599.0\"]}",
         205.9
        ],
        [
         "{\"type\":\"1\",\"size\":null,\"indices\":null,\"values\":[\"236995.0\"]}",
         268.7
        ],
        [
         "{\"type\":\"1\",\"size\":null,\"indices\":null,\"values\":[\"110448.0\"]}",
         237.4
        ],
        [
         "{\"type\":\"1\",\"size\":null,\"indices\":null,\"values\":[\"280579.0\"]}",
         350.8
        ],
        [
         "{\"type\":\"1\",\"size\":null,\"indices\":null,\"values\":[\"557169.0\"]}",
         172.2
        ],
        [
         "{\"type\":\"1\",\"size\":null,\"indices\":null,\"values\":[\"258703.0\"]}",
         117.3
        ],
        [
         "{\"type\":\"1\",\"size\":null,\"indices\":null,\"values\":[\"8491079.0\"]}",
         388.6
        ],
        [
         "{\"type\":\"1\",\"size\":null,\"indices\":null,\"values\":[\"209983.0\"]}",
         118.9
        ],
        [
         "{\"type\":\"1\",\"size\":null,\"indices\":null,\"values\":[\"144263.0\"]}",
         118.3
        ],
        [
         "{\"type\":\"1\",\"size\":null,\"indices\":null,\"values\":[\"809958.0\"]}",
         197.2
        ],
        [
         "{\"type\":\"1\",\"size\":null,\"indices\":null,\"values\":[\"251893.0\"]}",
         196.9
        ],
        [
         "{\"type\":\"1\",\"size\":null,\"indices\":null,\"values\":[\"203948.0\"]}",
         145
        ],
        [
         "{\"type\":\"1\",\"size\":null,\"indices\":null,\"values\":[\"282586.0\"]}",
         138.3
        ],
        [
         "{\"type\":\"1\",\"size\":null,\"indices\":null,\"values\":[\"439896.0\"]}",
         218.9
        ],
        [
         "{\"type\":\"1\",\"size\":null,\"indices\":null,\"values\":[\"113657.0\"]}",
         197.5
        ],
        [
         "{\"type\":\"1\",\"size\":null,\"indices\":null,\"values\":[\"239269.0\"]}",
         138.6
        ],
        [
         "{\"type\":\"1\",\"size\":null,\"indices\":null,\"values\":[\"115863.0\"]}",
         180
        ],
        [
         "{\"type\":\"1\",\"size\":null,\"indices\":null,\"values\":[\"197859.0\"]}",
         95.4
        ],
        [
         "{\"type\":\"1\",\"size\":null,\"indices\":null,\"values\":[\"298165.0\"]}",
         135
        ],
        [
         "{\"type\":\"1\",\"size\":null,\"indices\":null,\"values\":[\"389521.0\"]}",
         105.9
        ],
        [
         "{\"type\":\"1\",\"size\":null,\"indices\":null,\"values\":[\"835957.0\"]}",
         149.9
        ],
        [
         "{\"type\":\"1\",\"size\":null,\"indices\":null,\"values\":[\"141003.0\"]}",
         107.2
        ],
        [
         "{\"type\":\"1\",\"size\":null,\"indices\":null,\"values\":[\"281031.0\"]}",
         83.8
        ],
        [
         "{\"type\":\"1\",\"size\":null,\"indices\":null,\"values\":[\"399682.0\"]}",
         145.1
        ],
        [
         "{\"type\":\"1\",\"size\":null,\"indices\":null,\"values\":[\"160561.0\"]}",
         211.3
        ],
        [
         "{\"type\":\"1\",\"size\":null,\"indices\":null,\"values\":[\"619360.0\"]}",
         289.4
        ],
        [
         "{\"type\":\"1\",\"size\":null,\"indices\":null,\"values\":[\"161637.0\"]}",
         193.9
        ],
        [
         "{\"type\":\"1\",\"size\":null,\"indices\":null,\"values\":[\"119104.0\"]}",
         162.7
        ],
        [
         "{\"type\":\"1\",\"size\":null,\"indices\":null,\"values\":[\"1560297.0\"]}",
         204.9
        ],
        [
         "{\"type\":\"1\",\"size\":null,\"indices\":null,\"values\":[\"179154.0\"]}",
         233.3
        ],
        [
         "{\"type\":\"1\",\"size\":null,\"indices\":null,\"values\":[\"168586.0\"]}",
         159.5
        ],
        [
         "{\"type\":\"1\",\"size\":null,\"indices\":null,\"values\":[\"173778.0\"]}",
         143.6
        ],
        [
         "{\"type\":\"1\",\"size\":null,\"indices\":null,\"values\":[\"184281.0\"]}",
         149.2
        ],
        [
         "{\"type\":\"1\",\"size\":null,\"indices\":null,\"values\":[\"656861.0\"]}",
         132.1
        ],
        [
         "{\"type\":\"1\",\"size\":null,\"indices\":null,\"values\":[\"644014.0\"]}",
         186.4
        ],
        [
         "{\"type\":\"1\",\"size\":null,\"indices\":null,\"values\":[\"120958.0\"]}",
         145.7
        ],
        [
         "{\"type\":\"1\",\"size\":null,\"indices\":null,\"values\":[\"197254.0\"]}",
         144.4
        ],
        [
         "{\"type\":\"1\",\"size\":null,\"indices\":null,\"values\":[\"912791.0\"]}",
         249.1
        ],
        [
         "{\"type\":\"1\",\"size\":null,\"indices\":null,\"values\":[\"117585.0\"]}",
         133.3
        ],
        [
         "{\"type\":\"1\",\"size\":null,\"indices\":null,\"values\":[\"320434.0\"]}",
         172.9
        ],
        [
         "{\"type\":\"1\",\"size\":null,\"indices\":null,\"values\":[\"1281047.0\"]}",
         192.5
        ],
        [
         "{\"type\":\"1\",\"size\":null,\"indices\":null,\"values\":[\"679036.0\"]}",
         138.4
        ],
        [
         "{\"type\":\"1\",\"size\":null,\"indices\":null,\"values\":[\"2239558.0\"]}",
         200.3
        ],
        [
         "{\"type\":\"1\",\"size\":null,\"indices\":null,\"values\":[\"1436697.0\"]}",
         184.7
        ],
        [
         "{\"type\":\"1\",\"size\":null,\"indices\":null,\"values\":[\"190884.0\"]}",
         243.3
        ],
        [
         "{\"type\":\"1\",\"size\":null,\"indices\":null,\"values\":[\"217853.0\"]}",
         212.5
        ],
        [
         "{\"type\":\"1\",\"size\":null,\"indices\":null,\"values\":[\"450980.0\"]}",
         190
        ],
        [
         "{\"type\":\"1\",\"size\":null,\"indices\":null,\"values\":[\"668342.0\"]}",
         352.4
        ],
        [
         "{\"type\":\"1\",\"size\":null,\"indices\":null,\"values\":[\"212052.0\"]}",
         180.2
        ],
        [
         "{\"type\":\"1\",\"size\":null,\"indices\":null,\"values\":[\"245691.0\"]}",
         226.2
        ],
        [
         "{\"type\":\"1\",\"size\":null,\"indices\":null,\"values\":[\"599642.0\"]}",
         195.4
        ]
       ],
       "datasetInfos": [],
       "dbfsResultPath": null,
       "isJsonSchema": true,
       "metadata": {},
       "overflow": false,
       "plotOptions": {
        "customPlotOptions": {},
        "displayType": "table",
        "pivotAggregation": null,
        "pivotColumns": null,
        "xColumns": null,
        "yColumns": null
       },
       "removedWidgets": [],
       "schema": [
        {
         "metadata": "{}",
         "name": "features",
         "type": "{\"class\":\"org.apache.spark.ml.linalg.VectorUDT\",\"pyClass\":\"pyspark.ml.linalg.VectorUDT\",\"sqlType\":{\"fields\":[{\"metadata\":{},\"name\":\"type\",\"nullable\":false,\"type\":\"byte\"},{\"metadata\":{},\"name\":\"size\",\"nullable\":true,\"type\":\"integer\"},{\"metadata\":{},\"name\":\"indices\",\"nullable\":true,\"type\":{\"containsNull\":false,\"elementType\":\"integer\",\"type\":\"array\"}},{\"metadata\":{},\"name\":\"values\",\"nullable\":true,\"type\":{\"containsNull\":false,\"elementType\":\"double\",\"type\":\"array\"}}],\"type\":\"struct\"},\"type\":\"udt\"}"
        },
        {
         "metadata": "{}",
         "name": "label",
         "type": "\"double\""
        }
       ],
       "type": "table"
      }
     },
     "output_type": "display_data"
    }
   ],
   "source": [
    "display(tdata)"
   ]
  },
  {
   "cell_type": "markdown",
   "metadata": {
    "application/vnd.databricks.v1+cell": {
     "cellMetadata": {},
     "inputWidgets": {},
     "nuid": "5178aacc-06e1-4085-978e-c88a033ff4b6",
     "showTitle": false,
     "tableResultSettingsMap": {},
     "title": ""
    }
   },
   "source": [
    "## Perform linear regression\n",
    "\n",
    "We run two different linear regression models using different regularization parameters to determine how well either of these two models predict the *sales price* (label) based on the *population* (feature)."
   ]
  },
  {
   "cell_type": "markdown",
   "metadata": {
    "application/vnd.databricks.v1+cell": {
     "cellMetadata": {},
     "inputWidgets": {},
     "nuid": "29892810-619c-4859-85c8-85a049299663",
     "showTitle": false,
     "tableResultSettingsMap": {},
     "title": ""
    }
   },
   "source": [
    "### Build the model"
   ]
  },
  {
   "cell_type": "code",
   "execution_count": null,
   "metadata": {
    "application/vnd.databricks.v1+cell": {
     "cellMetadata": {
      "byteLimit": 2048000,
      "rowLimit": 10000
     },
     "inputWidgets": {},
     "nuid": "8755cd9b-ea43-4f3a-814c-f20402303d42",
     "showTitle": false,
     "tableResultSettingsMap": {},
     "title": ""
    }
   },
   "outputs": [
    {
     "data": {
      "text/plain": [
       "\u001b[0;31m---------------------------------------------------------------------------\u001b[0m\n",
       "\u001b[0;31mPy4JError\u001b[0m                                 Traceback (most recent call last)\n",
       "File \u001b[0;32m<command-6475900955999849>, line 5\u001b[0m\n",
       "\u001b[1;32m      2\u001b[0m \u001b[38;5;28;01mfrom\u001b[39;00m \u001b[38;5;21;01mpyspark\u001b[39;00m\u001b[38;5;21;01m.\u001b[39;00m\u001b[38;5;21;01mml\u001b[39;00m\u001b[38;5;21;01m.\u001b[39;00m\u001b[38;5;21;01mregression\u001b[39;00m \u001b[38;5;28;01mimport\u001b[39;00m LinearRegression\n",
       "\u001b[1;32m      4\u001b[0m \u001b[38;5;66;03m# Define LinearRegression algorithm\u001b[39;00m\n",
       "\u001b[0;32m----> 5\u001b[0m lr \u001b[38;5;241m=\u001b[39m LinearRegression()\n",
       "\n",
       "File \u001b[0;32m/databricks/python/lib/python3.11/site-packages/pyspark/__init__.py:120\u001b[0m, in \u001b[0;36mkeyword_only.<locals>.wrapper\u001b[0;34m(self, *args, **kwargs)\u001b[0m\n",
       "\u001b[1;32m    118\u001b[0m     \u001b[38;5;28;01mraise\u001b[39;00m \u001b[38;5;167;01mTypeError\u001b[39;00m(\u001b[38;5;124m\"\u001b[39m\u001b[38;5;124mMethod \u001b[39m\u001b[38;5;132;01m%s\u001b[39;00m\u001b[38;5;124m forces keyword arguments.\u001b[39m\u001b[38;5;124m\"\u001b[39m \u001b[38;5;241m%\u001b[39m func\u001b[38;5;241m.\u001b[39m\u001b[38;5;18m__name__\u001b[39m)\n",
       "\u001b[1;32m    119\u001b[0m \u001b[38;5;28mself\u001b[39m\u001b[38;5;241m.\u001b[39m_input_kwargs \u001b[38;5;241m=\u001b[39m kwargs\n",
       "\u001b[0;32m--> 120\u001b[0m \u001b[38;5;28;01mreturn\u001b[39;00m func(\u001b[38;5;28mself\u001b[39m, \u001b[38;5;241m*\u001b[39m\u001b[38;5;241m*\u001b[39mkwargs)\n",
       "\n",
       "File \u001b[0;32m/databricks/python/lib/python3.11/site-packages/pyspark/ml/regression.py:326\u001b[0m, in \u001b[0;36mLinearRegression.__init__\u001b[0;34m(self, featuresCol, labelCol, predictionCol, maxIter, regParam, elasticNetParam, tol, fitIntercept, standardization, solver, weightCol, aggregationDepth, loss, epsilon, maxBlockSizeInMB)\u001b[0m\n",
       "\u001b[1;32m    319\u001b[0m \u001b[38;5;250m\u001b[39m\u001b[38;5;124;03m\"\"\"\u001b[39;00m\n",
       "\u001b[1;32m    320\u001b[0m \u001b[38;5;124;03m__init__(self, \\\\*, featuresCol=\"features\", labelCol=\"label\", predictionCol=\"prediction\", \\\u001b[39;00m\n",
       "\u001b[1;32m    321\u001b[0m \u001b[38;5;124;03m         maxIter=100, regParam=0.0, elasticNetParam=0.0, tol=1e-6, fitIntercept=True, \\\u001b[39;00m\n",
       "\u001b[1;32m    322\u001b[0m \u001b[38;5;124;03m         standardization=True, solver=\"auto\", weightCol=None, aggregationDepth=2, \\\u001b[39;00m\n",
       "\u001b[1;32m    323\u001b[0m \u001b[38;5;124;03m         loss=\"squaredError\", epsilon=1.35, maxBlockSizeInMB=0.0)\u001b[39;00m\n",
       "\u001b[1;32m    324\u001b[0m \u001b[38;5;124;03m\"\"\"\u001b[39;00m\n",
       "\u001b[1;32m    325\u001b[0m \u001b[38;5;28msuper\u001b[39m(LinearRegression, \u001b[38;5;28mself\u001b[39m)\u001b[38;5;241m.\u001b[39m\u001b[38;5;21m__init__\u001b[39m()\n",
       "\u001b[0;32m--> 326\u001b[0m \u001b[38;5;28mself\u001b[39m\u001b[38;5;241m.\u001b[39m_java_obj \u001b[38;5;241m=\u001b[39m \u001b[38;5;28mself\u001b[39m\u001b[38;5;241m.\u001b[39m_new_java_obj(\n",
       "\u001b[1;32m    327\u001b[0m     \u001b[38;5;124m\"\u001b[39m\u001b[38;5;124morg.apache.spark.ml.regression.LinearRegression\u001b[39m\u001b[38;5;124m\"\u001b[39m, \u001b[38;5;28mself\u001b[39m\u001b[38;5;241m.\u001b[39muid\n",
       "\u001b[1;32m    328\u001b[0m )\n",
       "\u001b[1;32m    329\u001b[0m kwargs \u001b[38;5;241m=\u001b[39m \u001b[38;5;28mself\u001b[39m\u001b[38;5;241m.\u001b[39m_input_kwargs\n",
       "\u001b[1;32m    330\u001b[0m \u001b[38;5;28mself\u001b[39m\u001b[38;5;241m.\u001b[39msetParams(\u001b[38;5;241m*\u001b[39m\u001b[38;5;241m*\u001b[39mkwargs)\n",
       "\n",
       "File \u001b[0;32m/databricks/python/lib/python3.11/site-packages/pyspark/ml/wrapper.py:90\u001b[0m, in \u001b[0;36mJavaWrapper._new_java_obj\u001b[0;34m(java_class, *args)\u001b[0m\n",
       "\u001b[1;32m     88\u001b[0m     java_obj \u001b[38;5;241m=\u001b[39m \u001b[38;5;28mgetattr\u001b[39m(java_obj, name)\n",
       "\u001b[1;32m     89\u001b[0m java_args \u001b[38;5;241m=\u001b[39m [_py2java(sc, arg) \u001b[38;5;28;01mfor\u001b[39;00m arg \u001b[38;5;129;01min\u001b[39;00m args]\n",
       "\u001b[0;32m---> 90\u001b[0m \u001b[38;5;28;01mreturn\u001b[39;00m java_obj(\u001b[38;5;241m*\u001b[39mjava_args)\n",
       "\n",
       "File \u001b[0;32m/databricks/spark/python/lib/py4j-0.10.9.8-src.zip/py4j/java_gateway.py:1620\u001b[0m, in \u001b[0;36mJavaClass.__call__\u001b[0;34m(self, *args)\u001b[0m\n",
       "\u001b[1;32m   1614\u001b[0m command \u001b[38;5;241m=\u001b[39m proto\u001b[38;5;241m.\u001b[39mCONSTRUCTOR_COMMAND_NAME \u001b[38;5;241m+\u001b[39m\\\n",
       "\u001b[1;32m   1615\u001b[0m     \u001b[38;5;28mself\u001b[39m\u001b[38;5;241m.\u001b[39m_command_header \u001b[38;5;241m+\u001b[39m\\\n",
       "\u001b[1;32m   1616\u001b[0m     args_command \u001b[38;5;241m+\u001b[39m\\\n",
       "\u001b[1;32m   1617\u001b[0m     proto\u001b[38;5;241m.\u001b[39mEND_COMMAND_PART\n",
       "\u001b[1;32m   1619\u001b[0m answer \u001b[38;5;241m=\u001b[39m \u001b[38;5;28mself\u001b[39m\u001b[38;5;241m.\u001b[39m_gateway_client\u001b[38;5;241m.\u001b[39msend_command(command)\n",
       "\u001b[0;32m-> 1620\u001b[0m return_value \u001b[38;5;241m=\u001b[39m get_return_value(\n",
       "\u001b[1;32m   1621\u001b[0m     answer, \u001b[38;5;28mself\u001b[39m\u001b[38;5;241m.\u001b[39m_gateway_client, \u001b[38;5;28;01mNone\u001b[39;00m, \u001b[38;5;28mself\u001b[39m\u001b[38;5;241m.\u001b[39m_fqn)\n",
       "\u001b[1;32m   1623\u001b[0m \u001b[38;5;28;01mfor\u001b[39;00m temp_arg \u001b[38;5;129;01min\u001b[39;00m temp_args:\n",
       "\u001b[1;32m   1624\u001b[0m     \u001b[38;5;28;01mif\u001b[39;00m \u001b[38;5;28mhasattr\u001b[39m(temp_arg, \u001b[38;5;124m\"\u001b[39m\u001b[38;5;124m_detach\u001b[39m\u001b[38;5;124m\"\u001b[39m):\n",
       "\n",
       "File \u001b[0;32m/databricks/python/lib/python3.11/site-packages/pyspark/errors/exceptions/captured.py:255\u001b[0m, in \u001b[0;36mcapture_sql_exception.<locals>.deco\u001b[0;34m(*a, **kw)\u001b[0m\n",
       "\u001b[1;32m    252\u001b[0m \u001b[38;5;28;01mfrom\u001b[39;00m \u001b[38;5;21;01mpy4j\u001b[39;00m\u001b[38;5;21;01m.\u001b[39;00m\u001b[38;5;21;01mprotocol\u001b[39;00m \u001b[38;5;28;01mimport\u001b[39;00m Py4JJavaError\n",
       "\u001b[1;32m    254\u001b[0m \u001b[38;5;28;01mtry\u001b[39;00m:\n",
       "\u001b[0;32m--> 255\u001b[0m     \u001b[38;5;28;01mreturn\u001b[39;00m f(\u001b[38;5;241m*\u001b[39ma, \u001b[38;5;241m*\u001b[39m\u001b[38;5;241m*\u001b[39mkw)\n",
       "\u001b[1;32m    256\u001b[0m \u001b[38;5;28;01mexcept\u001b[39;00m Py4JJavaError \u001b[38;5;28;01mas\u001b[39;00m e:\n",
       "\u001b[1;32m    257\u001b[0m     converted \u001b[38;5;241m=\u001b[39m convert_exception(e\u001b[38;5;241m.\u001b[39mjava_exception)\n",
       "\n",
       "File \u001b[0;32m/databricks/spark/python/lib/py4j-0.10.9.8-src.zip/py4j/protocol.py:330\u001b[0m, in \u001b[0;36mget_return_value\u001b[0;34m(answer, gateway_client, target_id, name)\u001b[0m\n",
       "\u001b[1;32m    326\u001b[0m         \u001b[38;5;28;01mraise\u001b[39;00m Py4JJavaError(\n",
       "\u001b[1;32m    327\u001b[0m             \u001b[38;5;124m\"\u001b[39m\u001b[38;5;124mAn error occurred while calling \u001b[39m\u001b[38;5;132;01m{0}\u001b[39;00m\u001b[38;5;132;01m{1}\u001b[39;00m\u001b[38;5;132;01m{2}\u001b[39;00m\u001b[38;5;124m.\u001b[39m\u001b[38;5;130;01m\\n\u001b[39;00m\u001b[38;5;124m\"\u001b[39m\u001b[38;5;241m.\u001b[39m\n",
       "\u001b[1;32m    328\u001b[0m             \u001b[38;5;28mformat\u001b[39m(target_id, \u001b[38;5;124m\"\u001b[39m\u001b[38;5;124m.\u001b[39m\u001b[38;5;124m\"\u001b[39m, name), value)\n",
       "\u001b[1;32m    329\u001b[0m     \u001b[38;5;28;01melse\u001b[39;00m:\n",
       "\u001b[0;32m--> 330\u001b[0m         \u001b[38;5;28;01mraise\u001b[39;00m Py4JError(\n",
       "\u001b[1;32m    331\u001b[0m             \u001b[38;5;124m\"\u001b[39m\u001b[38;5;124mAn error occurred while calling \u001b[39m\u001b[38;5;132;01m{0}\u001b[39;00m\u001b[38;5;132;01m{1}\u001b[39;00m\u001b[38;5;132;01m{2}\u001b[39;00m\u001b[38;5;124m. Trace:\u001b[39m\u001b[38;5;130;01m\\n\u001b[39;00m\u001b[38;5;132;01m{3}\u001b[39;00m\u001b[38;5;130;01m\\n\u001b[39;00m\u001b[38;5;124m\"\u001b[39m\u001b[38;5;241m.\u001b[39m\n",
       "\u001b[1;32m    332\u001b[0m             \u001b[38;5;28mformat\u001b[39m(target_id, \u001b[38;5;124m\"\u001b[39m\u001b[38;5;124m.\u001b[39m\u001b[38;5;124m\"\u001b[39m, name, value))\n",
       "\u001b[1;32m    333\u001b[0m \u001b[38;5;28;01melse\u001b[39;00m:\n",
       "\u001b[1;32m    334\u001b[0m     \u001b[38;5;28;01mraise\u001b[39;00m Py4JError(\n",
       "\u001b[1;32m    335\u001b[0m         \u001b[38;5;124m\"\u001b[39m\u001b[38;5;124mAn error occurred while calling \u001b[39m\u001b[38;5;132;01m{0}\u001b[39;00m\u001b[38;5;132;01m{1}\u001b[39;00m\u001b[38;5;132;01m{2}\u001b[39;00m\u001b[38;5;124m\"\u001b[39m\u001b[38;5;241m.\u001b[39m\n",
       "\u001b[1;32m    336\u001b[0m         \u001b[38;5;28mformat\u001b[39m(target_id, \u001b[38;5;124m\"\u001b[39m\u001b[38;5;124m.\u001b[39m\u001b[38;5;124m\"\u001b[39m, name))\n",
       "\n",
       "\u001b[0;31mPy4JError\u001b[0m: An error occurred while calling None.org.apache.spark.ml.regression.LinearRegression. Trace:\n",
       "py4j.security.Py4JSecurityException: Constructor public org.apache.spark.ml.regression.LinearRegression(java.lang.String) is not whitelisted.\n",
       "\tat py4j.security.WhitelistingPy4JSecurityManager.checkConstructor(WhitelistingPy4JSecurityManager.java:451)\n",
       "\tat py4j.Gateway.invoke(Gateway.java:256)\n",
       "\tat py4j.commands.ConstructorCommand.invokeConstructor(ConstructorCommand.java:80)\n",
       "\tat py4j.commands.ConstructorCommand.execute(ConstructorCommand.java:69)\n",
       "\tat py4j.ClientServerConnection.waitForCommands(ClientServerConnection.java:197)\n",
       "\tat py4j.ClientServerConnection.run(ClientServerConnection.java:117)\n",
       "\tat java.lang.Thread.run(Thread.java:750)\n",
       "\n"
      ]
     },
     "metadata": {
      "application/vnd.databricks.v1+output": {
       "addedWidgets": {},
       "arguments": {},
       "datasetInfos": [],
       "jupyterProps": {
        "ename": "Py4JError",
        "evalue": "An error occurred while calling None.org.apache.spark.ml.regression.LinearRegression. Trace:\npy4j.security.Py4JSecurityException: Constructor public org.apache.spark.ml.regression.LinearRegression(java.lang.String) is not whitelisted.\n\tat py4j.security.WhitelistingPy4JSecurityManager.checkConstructor(WhitelistingPy4JSecurityManager.java:451)\n\tat py4j.Gateway.invoke(Gateway.java:256)\n\tat py4j.commands.ConstructorCommand.invokeConstructor(ConstructorCommand.java:80)\n\tat py4j.commands.ConstructorCommand.execute(ConstructorCommand.java:69)\n\tat py4j.ClientServerConnection.waitForCommands(ClientServerConnection.java:197)\n\tat py4j.ClientServerConnection.run(ClientServerConnection.java:117)\n\tat java.lang.Thread.run(Thread.java:750)\n\n"
       },
       "metadata": {
        "errorSummary": "<span class='ansi-red-fg'>Py4JError</span>: An error occurred while calling None.org.apache.spark.ml.regression.LinearRegression. Trace:\npy4j.security.Py4JSecurityException: Constructor public org.apache.spark.ml.regression.LinearRegression(java.lang.String) is not whitelisted.\n\tat py4j.security.WhitelistingPy4JSecurityManager.checkConstructor(WhitelistingPy4JSecurityManager.java:451)\n\tat py4j.Gateway.invoke(Gateway.java:256)\n\tat py4j.commands.ConstructorCommand.invokeConstructor(ConstructorCommand.java:80)\n\tat py4j.commands.ConstructorCommand.execute(ConstructorCommand.java:69)\n\tat py4j.ClientServerConnection.waitForCommands(ClientServerConnection.java:197)\n\tat py4j.ClientServerConnection.run(ClientServerConnection.java:117)\n\tat java.lang.Thread.run(Thread.java:750)\n\n"
       },
       "removedWidgets": [],
       "sqlProps": null,
       "stackFrames": [
        "\u001b[0;31m---------------------------------------------------------------------------\u001b[0m",
        "\u001b[0;31mPy4JError\u001b[0m                                 Traceback (most recent call last)",
        "File \u001b[0;32m<command-6475900955999849>, line 5\u001b[0m\n\u001b[1;32m      2\u001b[0m \u001b[38;5;28;01mfrom\u001b[39;00m \u001b[38;5;21;01mpyspark\u001b[39;00m\u001b[38;5;21;01m.\u001b[39;00m\u001b[38;5;21;01mml\u001b[39;00m\u001b[38;5;21;01m.\u001b[39;00m\u001b[38;5;21;01mregression\u001b[39;00m \u001b[38;5;28;01mimport\u001b[39;00m LinearRegression\n\u001b[1;32m      4\u001b[0m \u001b[38;5;66;03m# Define LinearRegression algorithm\u001b[39;00m\n\u001b[0;32m----> 5\u001b[0m lr \u001b[38;5;241m=\u001b[39m LinearRegression()\n",
        "File \u001b[0;32m/databricks/python/lib/python3.11/site-packages/pyspark/__init__.py:120\u001b[0m, in \u001b[0;36mkeyword_only.<locals>.wrapper\u001b[0;34m(self, *args, **kwargs)\u001b[0m\n\u001b[1;32m    118\u001b[0m     \u001b[38;5;28;01mraise\u001b[39;00m \u001b[38;5;167;01mTypeError\u001b[39;00m(\u001b[38;5;124m\"\u001b[39m\u001b[38;5;124mMethod \u001b[39m\u001b[38;5;132;01m%s\u001b[39;00m\u001b[38;5;124m forces keyword arguments.\u001b[39m\u001b[38;5;124m\"\u001b[39m \u001b[38;5;241m%\u001b[39m func\u001b[38;5;241m.\u001b[39m\u001b[38;5;18m__name__\u001b[39m)\n\u001b[1;32m    119\u001b[0m \u001b[38;5;28mself\u001b[39m\u001b[38;5;241m.\u001b[39m_input_kwargs \u001b[38;5;241m=\u001b[39m kwargs\n\u001b[0;32m--> 120\u001b[0m \u001b[38;5;28;01mreturn\u001b[39;00m func(\u001b[38;5;28mself\u001b[39m, \u001b[38;5;241m*\u001b[39m\u001b[38;5;241m*\u001b[39mkwargs)\n",
        "File \u001b[0;32m/databricks/python/lib/python3.11/site-packages/pyspark/ml/regression.py:326\u001b[0m, in \u001b[0;36mLinearRegression.__init__\u001b[0;34m(self, featuresCol, labelCol, predictionCol, maxIter, regParam, elasticNetParam, tol, fitIntercept, standardization, solver, weightCol, aggregationDepth, loss, epsilon, maxBlockSizeInMB)\u001b[0m\n\u001b[1;32m    319\u001b[0m \u001b[38;5;250m\u001b[39m\u001b[38;5;124;03m\"\"\"\u001b[39;00m\n\u001b[1;32m    320\u001b[0m \u001b[38;5;124;03m__init__(self, \\\\*, featuresCol=\"features\", labelCol=\"label\", predictionCol=\"prediction\", \\\u001b[39;00m\n\u001b[1;32m    321\u001b[0m \u001b[38;5;124;03m         maxIter=100, regParam=0.0, elasticNetParam=0.0, tol=1e-6, fitIntercept=True, \\\u001b[39;00m\n\u001b[1;32m    322\u001b[0m \u001b[38;5;124;03m         standardization=True, solver=\"auto\", weightCol=None, aggregationDepth=2, \\\u001b[39;00m\n\u001b[1;32m    323\u001b[0m \u001b[38;5;124;03m         loss=\"squaredError\", epsilon=1.35, maxBlockSizeInMB=0.0)\u001b[39;00m\n\u001b[1;32m    324\u001b[0m \u001b[38;5;124;03m\"\"\"\u001b[39;00m\n\u001b[1;32m    325\u001b[0m \u001b[38;5;28msuper\u001b[39m(LinearRegression, \u001b[38;5;28mself\u001b[39m)\u001b[38;5;241m.\u001b[39m\u001b[38;5;21m__init__\u001b[39m()\n\u001b[0;32m--> 326\u001b[0m \u001b[38;5;28mself\u001b[39m\u001b[38;5;241m.\u001b[39m_java_obj \u001b[38;5;241m=\u001b[39m \u001b[38;5;28mself\u001b[39m\u001b[38;5;241m.\u001b[39m_new_java_obj(\n\u001b[1;32m    327\u001b[0m     \u001b[38;5;124m\"\u001b[39m\u001b[38;5;124morg.apache.spark.ml.regression.LinearRegression\u001b[39m\u001b[38;5;124m\"\u001b[39m, \u001b[38;5;28mself\u001b[39m\u001b[38;5;241m.\u001b[39muid\n\u001b[1;32m    328\u001b[0m )\n\u001b[1;32m    329\u001b[0m kwargs \u001b[38;5;241m=\u001b[39m \u001b[38;5;28mself\u001b[39m\u001b[38;5;241m.\u001b[39m_input_kwargs\n\u001b[1;32m    330\u001b[0m \u001b[38;5;28mself\u001b[39m\u001b[38;5;241m.\u001b[39msetParams(\u001b[38;5;241m*\u001b[39m\u001b[38;5;241m*\u001b[39mkwargs)\n",
        "File \u001b[0;32m/databricks/python/lib/python3.11/site-packages/pyspark/ml/wrapper.py:90\u001b[0m, in \u001b[0;36mJavaWrapper._new_java_obj\u001b[0;34m(java_class, *args)\u001b[0m\n\u001b[1;32m     88\u001b[0m     java_obj \u001b[38;5;241m=\u001b[39m \u001b[38;5;28mgetattr\u001b[39m(java_obj, name)\n\u001b[1;32m     89\u001b[0m java_args \u001b[38;5;241m=\u001b[39m [_py2java(sc, arg) \u001b[38;5;28;01mfor\u001b[39;00m arg \u001b[38;5;129;01min\u001b[39;00m args]\n\u001b[0;32m---> 90\u001b[0m \u001b[38;5;28;01mreturn\u001b[39;00m java_obj(\u001b[38;5;241m*\u001b[39mjava_args)\n",
        "File \u001b[0;32m/databricks/spark/python/lib/py4j-0.10.9.8-src.zip/py4j/java_gateway.py:1620\u001b[0m, in \u001b[0;36mJavaClass.__call__\u001b[0;34m(self, *args)\u001b[0m\n\u001b[1;32m   1614\u001b[0m command \u001b[38;5;241m=\u001b[39m proto\u001b[38;5;241m.\u001b[39mCONSTRUCTOR_COMMAND_NAME \u001b[38;5;241m+\u001b[39m\\\n\u001b[1;32m   1615\u001b[0m     \u001b[38;5;28mself\u001b[39m\u001b[38;5;241m.\u001b[39m_command_header \u001b[38;5;241m+\u001b[39m\\\n\u001b[1;32m   1616\u001b[0m     args_command \u001b[38;5;241m+\u001b[39m\\\n\u001b[1;32m   1617\u001b[0m     proto\u001b[38;5;241m.\u001b[39mEND_COMMAND_PART\n\u001b[1;32m   1619\u001b[0m answer \u001b[38;5;241m=\u001b[39m \u001b[38;5;28mself\u001b[39m\u001b[38;5;241m.\u001b[39m_gateway_client\u001b[38;5;241m.\u001b[39msend_command(command)\n\u001b[0;32m-> 1620\u001b[0m return_value \u001b[38;5;241m=\u001b[39m get_return_value(\n\u001b[1;32m   1621\u001b[0m     answer, \u001b[38;5;28mself\u001b[39m\u001b[38;5;241m.\u001b[39m_gateway_client, \u001b[38;5;28;01mNone\u001b[39;00m, \u001b[38;5;28mself\u001b[39m\u001b[38;5;241m.\u001b[39m_fqn)\n\u001b[1;32m   1623\u001b[0m \u001b[38;5;28;01mfor\u001b[39;00m temp_arg \u001b[38;5;129;01min\u001b[39;00m temp_args:\n\u001b[1;32m   1624\u001b[0m     \u001b[38;5;28;01mif\u001b[39;00m \u001b[38;5;28mhasattr\u001b[39m(temp_arg, \u001b[38;5;124m\"\u001b[39m\u001b[38;5;124m_detach\u001b[39m\u001b[38;5;124m\"\u001b[39m):\n",
        "File \u001b[0;32m/databricks/python/lib/python3.11/site-packages/pyspark/errors/exceptions/captured.py:255\u001b[0m, in \u001b[0;36mcapture_sql_exception.<locals>.deco\u001b[0;34m(*a, **kw)\u001b[0m\n\u001b[1;32m    252\u001b[0m \u001b[38;5;28;01mfrom\u001b[39;00m \u001b[38;5;21;01mpy4j\u001b[39;00m\u001b[38;5;21;01m.\u001b[39;00m\u001b[38;5;21;01mprotocol\u001b[39;00m \u001b[38;5;28;01mimport\u001b[39;00m Py4JJavaError\n\u001b[1;32m    254\u001b[0m \u001b[38;5;28;01mtry\u001b[39;00m:\n\u001b[0;32m--> 255\u001b[0m     \u001b[38;5;28;01mreturn\u001b[39;00m f(\u001b[38;5;241m*\u001b[39ma, \u001b[38;5;241m*\u001b[39m\u001b[38;5;241m*\u001b[39mkw)\n\u001b[1;32m    256\u001b[0m \u001b[38;5;28;01mexcept\u001b[39;00m Py4JJavaError \u001b[38;5;28;01mas\u001b[39;00m e:\n\u001b[1;32m    257\u001b[0m     converted \u001b[38;5;241m=\u001b[39m convert_exception(e\u001b[38;5;241m.\u001b[39mjava_exception)\n",
        "File \u001b[0;32m/databricks/spark/python/lib/py4j-0.10.9.8-src.zip/py4j/protocol.py:330\u001b[0m, in \u001b[0;36mget_return_value\u001b[0;34m(answer, gateway_client, target_id, name)\u001b[0m\n\u001b[1;32m    326\u001b[0m         \u001b[38;5;28;01mraise\u001b[39;00m Py4JJavaError(\n\u001b[1;32m    327\u001b[0m             \u001b[38;5;124m\"\u001b[39m\u001b[38;5;124mAn error occurred while calling \u001b[39m\u001b[38;5;132;01m{0}\u001b[39;00m\u001b[38;5;132;01m{1}\u001b[39;00m\u001b[38;5;132;01m{2}\u001b[39;00m\u001b[38;5;124m.\u001b[39m\u001b[38;5;130;01m\\n\u001b[39;00m\u001b[38;5;124m\"\u001b[39m\u001b[38;5;241m.\u001b[39m\n\u001b[1;32m    328\u001b[0m             \u001b[38;5;28mformat\u001b[39m(target_id, \u001b[38;5;124m\"\u001b[39m\u001b[38;5;124m.\u001b[39m\u001b[38;5;124m\"\u001b[39m, name), value)\n\u001b[1;32m    329\u001b[0m     \u001b[38;5;28;01melse\u001b[39;00m:\n\u001b[0;32m--> 330\u001b[0m         \u001b[38;5;28;01mraise\u001b[39;00m Py4JError(\n\u001b[1;32m    331\u001b[0m             \u001b[38;5;124m\"\u001b[39m\u001b[38;5;124mAn error occurred while calling \u001b[39m\u001b[38;5;132;01m{0}\u001b[39;00m\u001b[38;5;132;01m{1}\u001b[39;00m\u001b[38;5;132;01m{2}\u001b[39;00m\u001b[38;5;124m. Trace:\u001b[39m\u001b[38;5;130;01m\\n\u001b[39;00m\u001b[38;5;132;01m{3}\u001b[39;00m\u001b[38;5;130;01m\\n\u001b[39;00m\u001b[38;5;124m\"\u001b[39m\u001b[38;5;241m.\u001b[39m\n\u001b[1;32m    332\u001b[0m             \u001b[38;5;28mformat\u001b[39m(target_id, \u001b[38;5;124m\"\u001b[39m\u001b[38;5;124m.\u001b[39m\u001b[38;5;124m\"\u001b[39m, name, value))\n\u001b[1;32m    333\u001b[0m \u001b[38;5;28;01melse\u001b[39;00m:\n\u001b[1;32m    334\u001b[0m     \u001b[38;5;28;01mraise\u001b[39;00m Py4JError(\n\u001b[1;32m    335\u001b[0m         \u001b[38;5;124m\"\u001b[39m\u001b[38;5;124mAn error occurred while calling \u001b[39m\u001b[38;5;132;01m{0}\u001b[39;00m\u001b[38;5;132;01m{1}\u001b[39;00m\u001b[38;5;132;01m{2}\u001b[39;00m\u001b[38;5;124m\"\u001b[39m\u001b[38;5;241m.\u001b[39m\n\u001b[1;32m    336\u001b[0m         \u001b[38;5;28mformat\u001b[39m(target_id, \u001b[38;5;124m\"\u001b[39m\u001b[38;5;124m.\u001b[39m\u001b[38;5;124m\"\u001b[39m, name))\n",
        "\u001b[0;31mPy4JError\u001b[0m: An error occurred while calling None.org.apache.spark.ml.regression.LinearRegression. Trace:\npy4j.security.Py4JSecurityException: Constructor public org.apache.spark.ml.regression.LinearRegression(java.lang.String) is not whitelisted.\n\tat py4j.security.WhitelistingPy4JSecurityManager.checkConstructor(WhitelistingPy4JSecurityManager.java:451)\n\tat py4j.Gateway.invoke(Gateway.java:256)\n\tat py4j.commands.ConstructorCommand.invokeConstructor(ConstructorCommand.java:80)\n\tat py4j.commands.ConstructorCommand.execute(ConstructorCommand.java:69)\n\tat py4j.ClientServerConnection.waitForCommands(ClientServerConnection.java:197)\n\tat py4j.ClientServerConnection.run(ClientServerConnection.java:117)\n\tat java.lang.Thread.run(Thread.java:750)\n\n"
       ],
       "type": "baseError"
      }
     },
     "output_type": "display_data"
    }
   ],
   "source": [
    "# Import LinearRegression class\n",
    "from pyspark.ml.regression import LinearRegression\n",
    "\n",
    "# Define LinearRegression algorithm\n",
    "lr = LinearRegression()"
   ]
  },
  {
   "cell_type": "code",
   "execution_count": null,
   "metadata": {
    "application/vnd.databricks.v1+cell": {
     "cellMetadata": {},
     "inputWidgets": {},
     "nuid": "23003f9c-b103-4771-8f33-ca9fdc9fb134",
     "showTitle": false,
     "tableResultSettingsMap": {},
     "title": ""
    }
   },
   "outputs": [],
   "source": [
    "# Fit 2 models, using different regularization parameters\n",
    "modelA = lr.fit(data, {lr.regParam:0.0})\n",
    "modelB = lr.fit(data, {lr.regParam:100.0})"
   ]
  },
  {
   "cell_type": "code",
   "execution_count": null,
   "metadata": {
    "application/vnd.databricks.v1+cell": {
     "cellMetadata": {},
     "inputWidgets": {},
     "nuid": "ab4886a1-e842-421a-b2c9-c694ecdefae1",
     "showTitle": false,
     "tableResultSettingsMap": {},
     "title": ""
    }
   },
   "outputs": [],
   "source": []
  }
 ],
 "metadata": {
  "application/vnd.databricks.v1+notebook": {
   "computePreferences": null,
   "dashboards": [],
   "environmentMetadata": {
    "base_environment": "",
    "environment_version": "2"
   },
   "inputWidgetPreferences": null,
   "language": "python",
   "notebookMetadata": {
    "pythonIndentUnit": 4
   },
   "notebookName": "4-Spark ML library",
   "widgets": {}
  },
  "kernelspec": {
   "display_name": "Python 3 (ipykernel)",
   "language": "python",
   "name": "python3"
  },
  "language_info": {
   "codemirror_mode": {
    "name": "ipython",
    "version": 3
   },
   "file_extension": ".py",
   "mimetype": "text/x-python",
   "name": "python",
   "nbconvert_exporter": "python",
   "pygments_lexer": "ipython3",
   "version": "3.12.10"
  }
 },
 "nbformat": 4,
 "nbformat_minor": 4
}
