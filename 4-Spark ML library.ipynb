{
 "cells": [
  {
   "cell_type": "markdown",
   "metadata": {
    "application/vnd.databricks.v1+cell": {
     "cellMetadata": {},
     "inputWidgets": {},
     "nuid": "1a1dfa54-3ff7-494c-a535-834f339f8cb4",
     "showTitle": false,
     "tableResultSettingsMap": {},
     "title": ""
    }
   },
   "source": [
    "## Apache Spark machine library (MLlib)"
   ]
  },
  {
   "cell_type": "code",
   "execution_count": 2,
   "metadata": {},
   "outputs": [],
   "source": [
    "from pyspark.sql import SparkSession\n",
    "\n",
    "spark = SparkSession.builder.appName(\"MyApp\").getOrCreate()"
   ]
  },
  {
   "cell_type": "markdown",
   "metadata": {
    "application/vnd.databricks.v1+cell": {
     "cellMetadata": {},
     "inputWidgets": {},
     "nuid": "1695e37f-8a8e-40fc-adb0-42eaa8dd0e57",
     "showTitle": false,
     "tableResultSettingsMap": {},
     "title": ""
    }
   },
   "source": [
    "## Load sample data"
   ]
  },
  {
   "cell_type": "code",
   "execution_count": 5,
   "metadata": {
    "application/vnd.databricks.v1+cell": {
     "cellMetadata": {
      "byteLimit": 2048000,
      "rowLimit": 10000
     },
     "inputWidgets": {},
     "nuid": "28da09a6-c97d-4206-9383-16be1a5e15ee",
     "showTitle": false,
     "tableResultSettingsMap": {},
     "title": ""
    }
   },
   "outputs": [
    {
     "data": {
      "text/plain": [
       "DataFrame[2014 rank: int, City: string, State: string, State Code: string, 2014 Population estimate: int, 2015 median sales price: double]"
      ]
     },
     "execution_count": 5,
     "metadata": {},
     "output_type": "execute_result"
    }
   ],
   "source": [
    "# Use the Spark CSV datasource with options specifying:\n",
    "# - First line of file is a header\n",
    "# - Automatically infer the schema of the data\n",
    "data = spark.read.format(\"csv\").option(\"header\", \"true\").option(\"inferSchema\", \"true\").load(\"data_geo_local.csv\")\n",
    "# databricks\n",
    "#data = spark.read.format(\"csv\").option(\"header\", \"true\").option(\"inferSchema\", \"true\").load(\"/databricks-datasets/samples/population-vs-price/data_geo.csv\")\n",
    "\n",
    "data.cache() # Cache data for faster reuse"
   ]
  },
  {
   "cell_type": "markdown",
   "metadata": {
    "application/vnd.databricks.v1+cell": {
     "cellMetadata": {},
     "inputWidgets": {},
     "nuid": "761e5cb3-6cf4-4ad0-90d4-ebf31f578ab4",
     "showTitle": false,
     "tableResultSettingsMap": {},
     "title": ""
    }
   },
   "source": [
    "View the data in tabular form"
   ]
  },
  {
   "cell_type": "code",
   "execution_count": 9,
   "metadata": {
    "application/vnd.databricks.v1+cell": {
     "cellMetadata": {
      "byteLimit": 2048000,
      "rowLimit": 10000
     },
     "inputWidgets": {},
     "nuid": "706f5cd2-e437-4c86-8f1e-4a565517bf7d",
     "showTitle": false,
     "tableResultSettingsMap": {},
     "title": ""
    }
   },
   "outputs": [
    {
     "name": "stdout",
     "output_type": "stream",
     "text": [
      "+---------+-------------+-------+----------+------------------------+-----------------------+\n",
      "|2014 rank|         City|  State|State Code|2014 Population estimate|2015 median sales price|\n",
      "+---------+-------------+-------+----------+------------------------+-----------------------+\n",
      "|      101|   Birmingham|Alabama|        AL|                  212247|                  162.9|\n",
      "|      125|   Huntsville|Alabama|        AL|                  188226|                  157.7|\n",
      "|      122|       Mobile|Alabama|        AL|                  194675|                  122.5|\n",
      "|      114|   Montgomery|Alabama|        AL|                  200481|                  129.0|\n",
      "|       64|Anchorage[19]| Alaska|        AK|                  301010|                   NULL|\n",
      "|       78|     Chandler|Arizona|        AZ|                  254276|                   NULL|\n",
      "|       86|  Gilbert[20]|Arizona|        AZ|                  239277|                   NULL|\n",
      "|       88|     Glendale|Arizona|        AZ|                  237517|                   NULL|\n",
      "|       38|         Mesa|Arizona|        AZ|                  464704|                   NULL|\n",
      "|      148|       Peoria|Arizona|        AZ|                  166934|                   NULL|\n",
      "+---------+-------------+-------+----------+------------------------+-----------------------+\n",
      "only showing top 10 rows\n",
      "\n"
     ]
    }
   ],
   "source": [
    "# databricks, this nicely shows the first rows\n",
    "#display(data)\n",
    "data.show(10)"
   ]
  },
  {
   "cell_type": "markdown",
   "metadata": {
    "application/vnd.databricks.v1+cell": {
     "cellMetadata": {},
     "inputWidgets": {},
     "nuid": "a0f8f9b2-fb8a-48d4-88a3-b2229546d160",
     "showTitle": false,
     "tableResultSettingsMap": {},
     "title": ""
    }
   },
   "source": [
    "## Prepare and visualize data\n",
    "\n",
    "In this linear regression example, the label is the 2015 median sales price and the feature is the 2014 Population Estimate. That is, you use the feature (population) to predict the label (sales price)."
   ]
  },
  {
   "cell_type": "code",
   "execution_count": 10,
   "metadata": {
    "application/vnd.databricks.v1+cell": {
     "cellMetadata": {
      "byteLimit": 2048000,
      "rowLimit": 10000
     },
     "inputWidgets": {},
     "nuid": "14fb8e5c-6f9a-4baa-9513-7a92b5a5fa5e",
     "showTitle": false,
     "tableResultSettingsMap": {},
     "title": ""
    }
   },
   "outputs": [],
   "source": [
    "from pyspark.sql.functions import col\n",
    "\n",
    "# First drop rows with missing values\n",
    "data = data.dropna() # drop rows with missing values\n",
    "# rename the feature and label columns, replacing spaces with _\n",
    "exprs = [col(column).alias(column.replace(' ', '_')) for column in data.columns]"
   ]
  },
  {
   "cell_type": "markdown",
   "metadata": {
    "application/vnd.databricks.v1+cell": {
     "cellMetadata": {},
     "inputWidgets": {},
     "nuid": "2d121f1f-c648-44b0-8132-516704133301",
     "showTitle": false,
     "tableResultSettingsMap": {},
     "title": ""
    }
   },
   "source": [
    "To simplify the creation of features, register a UDF to convert the feature (`2014_Population_estimate`) column vector to a `VectorUDT` type and apply it to the column.\n",
    "\n",
    "#### UDF = User-Defined Function\n",
    "\n",
    "Spark ships with a large catalogue of SQL functions, but real-world logic (domain-specific parsing, proprietary scoring rules, complex geo math, etc.) often isn’t covered. A UDF lets you drop into *your* language (Python, Scala, Java, R) to express that logic.\n",
    "\n",
    "Use a UDF when:  \n",
    "\n",
    "• No built-in expression can do the job.  \n",
    "• The logic is complex but not latency-critical.  \n",
    "\n",
    "**Key takeaways**\n",
    "\n",
    "• A UDF extends Spark’s function library with custom code.  \n",
    "• Easy to write; potentially expensive to run (serialization + no optimization).  \n",
    "• Prefer built-ins; fall back to vectorized (Pandas) UDFs or native Scala UDFs when custom logic is unavoidable."
   ]
  },
  {
   "cell_type": "code",
   "execution_count": 11,
   "metadata": {
    "application/vnd.databricks.v1+cell": {
     "cellMetadata": {
      "byteLimit": 2048000,
      "rowLimit": 10000
     },
     "inputWidgets": {},
     "nuid": "b512bc66-63c2-4d43-a058-01c1b0ccee4f",
     "showTitle": false,
     "tableResultSettingsMap": {},
     "title": ""
    }
   },
   "outputs": [],
   "source": [
    "from pyspark.ml.linalg import Vectors, VectorUDT\n",
    "\n",
    "spark.udf.register(\"oneElementVec\", lambda d: Vectors.dense([d]), returnType=VectorUDT())\n",
    "tdata = data.select(*exprs).selectExpr(\"oneElementVec(2014_Population_estimate) as features\", \"2015_median_sales_price as label\")"
   ]
  },
  {
   "cell_type": "code",
   "execution_count": 13,
   "metadata": {
    "application/vnd.databricks.v1+cell": {
     "cellMetadata": {
      "byteLimit": 2048000,
      "rowLimit": 10000
     },
     "inputWidgets": {},
     "nuid": "6dab742d-e32c-4349-89f6-8c1d5a4a2ea4",
     "showTitle": false,
     "tableResultSettingsMap": {},
     "title": ""
    }
   },
   "outputs": [
    {
     "name": "stdout",
     "output_type": "stream",
     "text": [
      "+-----------+-----+\n",
      "|   features|label|\n",
      "+-----------+-----+\n",
      "| [212247.0]|162.9|\n",
      "| [188226.0]|157.7|\n",
      "| [194675.0]|122.5|\n",
      "| [200481.0]|129.0|\n",
      "|[1537058.0]|206.1|\n",
      "| [527972.0]|178.1|\n",
      "| [197706.0]|131.8|\n",
      "| [346997.0]|685.7|\n",
      "|[3928864.0]|434.7|\n",
      "| [319504.0]|281.0|\n",
      "+-----------+-----+\n",
      "only showing top 10 rows\n",
      "\n"
     ]
    }
   ],
   "source": [
    "# databricks\n",
    "#display(tdata)\n",
    "tdata.show(10)"
   ]
  },
  {
   "cell_type": "markdown",
   "metadata": {
    "application/vnd.databricks.v1+cell": {
     "cellMetadata": {},
     "inputWidgets": {},
     "nuid": "5178aacc-06e1-4085-978e-c88a033ff4b6",
     "showTitle": false,
     "tableResultSettingsMap": {},
     "title": ""
    }
   },
   "source": [
    "## Perform linear regression\n",
    "\n",
    "We run two different linear regression models using different regularization parameters to determine how well either of these two models predict the *sales price* (label) based on the *population* (feature)."
   ]
  },
  {
   "cell_type": "markdown",
   "metadata": {
    "application/vnd.databricks.v1+cell": {
     "cellMetadata": {},
     "inputWidgets": {},
     "nuid": "29892810-619c-4859-85c8-85a049299663",
     "showTitle": false,
     "tableResultSettingsMap": {},
     "title": ""
    }
   },
   "source": [
    "### Build the model"
   ]
  },
  {
   "cell_type": "code",
   "execution_count": 14,
   "metadata": {
    "application/vnd.databricks.v1+cell": {
     "cellMetadata": {
      "byteLimit": 2048000,
      "rowLimit": 10000
     },
     "inputWidgets": {},
     "nuid": "8755cd9b-ea43-4f3a-814c-f20402303d42",
     "showTitle": false,
     "tableResultSettingsMap": {},
     "title": ""
    }
   },
   "outputs": [],
   "source": [
    "# Import LinearRegression class\n",
    "from pyspark.ml.regression import LinearRegression\n",
    "\n",
    "# Define LinearRegression algorithm\n",
    "lr = LinearRegression()"
   ]
  },
  {
   "cell_type": "code",
   "execution_count": 16,
   "metadata": {
    "application/vnd.databricks.v1+cell": {
     "cellMetadata": {},
     "inputWidgets": {},
     "nuid": "23003f9c-b103-4771-8f33-ca9fdc9fb134",
     "showTitle": false,
     "tableResultSettingsMap": {},
     "title": ""
    }
   },
   "outputs": [],
   "source": [
    "# Fit 2 models, using different regularization parameters\n",
    "modelA = lr.fit(tdata, {lr.regParam:0.0})\n",
    "modelB = lr.fit(tdata, {lr.regParam:100.0})"
   ]
  },
  {
   "cell_type": "markdown",
   "metadata": {},
   "source": [
    "Using the model, you can also make predictions by using the transform() function, which adds a new column of predictions. For example, the code below takes the first model (modelA) and shows you both the label (original sales price) and prediction (predicted sales price) based on the features (population)."
   ]
  },
  {
   "cell_type": "code",
   "execution_count": 19,
   "metadata": {
    "application/vnd.databricks.v1+cell": {
     "cellMetadata": {},
     "inputWidgets": {},
     "nuid": "ab4886a1-e842-421a-b2c9-c694ecdefae1",
     "showTitle": false,
     "tableResultSettingsMap": {},
     "title": ""
    }
   },
   "outputs": [
    {
     "name": "stdout",
     "output_type": "stream",
     "text": [
      "+-----------+-----+------------------+\n",
      "|   features|label|        prediction|\n",
      "+-----------+-----+------------------+\n",
      "| [212247.0]|162.9| 199.3167659584664|\n",
      "| [188226.0]|157.7|198.40882267887193|\n",
      "| [194675.0]|122.5|198.65258131548592|\n",
      "| [200481.0]|129.0|198.87203590444247|\n",
      "|[1537058.0]|206.1|249.39183544694856|\n",
      "| [527972.0]|178.1|211.25050693302884|\n",
      "| [197706.0]|131.8| 198.7671467407576|\n",
      "| [346997.0]|685.7| 204.4100325554172|\n",
      "|[3928864.0]|434.7|339.79707185649573|\n",
      "| [319504.0]|281.0|203.37085497805194|\n",
      "+-----------+-----+------------------+\n",
      "only showing top 10 rows\n",
      "\n"
     ]
    }
   ],
   "source": [
    "# Make predictions\n",
    "predictionsA = modelA.transform(tdata)\n",
    "predictionsA.show(10)"
   ]
  },
  {
   "cell_type": "markdown",
   "metadata": {},
   "source": [
    "### Evaluate"
   ]
  },
  {
   "cell_type": "markdown",
   "metadata": {},
   "source": [
    "To evaluate the regression analysis, calculate the root mean square error using the RegressionEvaluator. Here is the Python code for evaluating the two models and their output."
   ]
  },
  {
   "cell_type": "code",
   "execution_count": 22,
   "metadata": {},
   "outputs": [
    {
     "name": "stdout",
     "output_type": "stream",
     "text": [
      "ModelA: Root Mean Squared Error = 128.60202684284758\n",
      "ModelB: Root Mean Squared Error = 129.49630019270606\n"
     ]
    }
   ],
   "source": [
    "from pyspark.ml.evaluation import RegressionEvaluator\n",
    "evaluator = RegressionEvaluator(metricName=\"rmse\")\n",
    "RMSE = evaluator.evaluate(predictionsA)\n",
    "print(\"ModelA: Root Mean Squared Error = \" + str(RMSE))\n",
    "\n",
    "predictionsB = modelB.transform(tdata)\n",
    "RMSE = evaluator.evaluate(predictionsB)\n",
    "print(\"ModelB: Root Mean Squared Error = \" + str(RMSE))"
   ]
  },
  {
   "cell_type": "markdown",
   "metadata": {},
   "source": [
    "### Visualize"
   ]
  },
  {
   "cell_type": "code",
   "execution_count": 25,
   "metadata": {},
   "outputs": [],
   "source": [
    "# Import numpy, pandas, and ggplot\n",
    "import numpy as np\n",
    "from pandas import *\n",
    "import matplotlib.pyplot as plt\n",
    "#from ggplot import *"
   ]
  },
  {
   "cell_type": "code",
   "execution_count": 29,
   "metadata": {},
   "outputs": [],
   "source": [
    "# Create Python DataFrame\n",
    "pop = tdata.rdd.map(lambda p: (p.features[0])).collect()\n",
    "price = tdata.rdd.map(lambda p: (p.label)).collect()\n",
    "predA = predictionsA.select(\"prediction\").rdd.map(lambda r: r[0]).collect()\n",
    "predB = predictionsB.select(\"prediction\").rdd.map(lambda r: r[0]).collect()\n",
    "\n",
    "# Create a Pandas DataFrame\n",
    "df = DataFrame({'pop':pop,'price':price,'predA':predA, 'predB':predB})"
   ]
  },
  {
   "cell_type": "markdown",
   "metadata": {},
   "source": [
    "If `ggplot` is installed:\n",
    "\n",
    "```python\n",
    "# Create scatter plot and two regression models (scaling exponential) using ggplot\n",
    "p = ggplot(pydf, aes('pop','price')) +\n",
    "  geom_point(color='blue') +\n",
    "  geom_line(pydf, aes('pop','predA'), color='red') +\n",
    "  geom_line(pydf, aes('pop','predB'), color='green') +\n",
    "  scale_x_log10() + scale_y_log10()\n",
    "display(p)\n",
    "```"
   ]
  },
  {
   "cell_type": "code",
   "execution_count": 35,
   "metadata": {},
   "outputs": [
    {
     "data": {
      "image/png": "[encoded data removed]",
      "text/plain": [
       "<Figure size 640x480 with 1 Axes>"
      ]
     },
     "metadata": {},
     "output_type": "display_data"
    }
   ],
   "source": [
    "# sort by population to keep lines monotonic\n",
    "pydf_sorted = pydf.sort_values('pop')\n",
    "\n",
    "plt.scatter(pydf_sorted['pop'], pydf_sorted['price'], label='Data', color='k')\n",
    "plt.plot(pydf_sorted['pop'], pydf_sorted['predA'], linewidth=2, label='Model A')\n",
    "plt.plot(pydf_sorted['pop'], pydf_sorted['predB'], linewidth=2, label='Model B')\n",
    "plt.xscale('log')\n",
    "plt.yscale('log')\n",
    "plt.xlabel('Population (2014 estimate)')\n",
    "plt.ylabel('Median Sales Price (2015)')\n",
    "plt.legend()\n",
    "plt.tight_layout()\n",
    "plt.show()"
   ]
  },
  {
   "cell_type": "code",
   "execution_count": null,
   "metadata": {},
   "outputs": [],
   "source": []
  }
 ],
 "metadata": {
  "application/vnd.databricks.v1+notebook": {
   "computePreferences": null,
   "dashboards": [],
   "environmentMetadata": {
    "base_environment": "",
    "environment_version": "2"
   },
   "inputWidgetPreferences": null,
   "language": "python",
   "notebookMetadata": {
    "pythonIndentUnit": 4
   },
   "notebookName": "4-Spark ML library",
   "widgets": {}
  },
  "kernelspec": {
   "display_name": "Python 3 (ipykernel)",
   "language": "python",
   "name": "python3"
  },
  "language_info": {
   "codemirror_mode": {
    "name": "ipython",
    "version": 3
   },
   "file_extension": ".py",
   "mimetype": "text/x-python",
   "name": "python",
   "nbconvert_exporter": "python",
   "pygments_lexer": "ipython3",
   "version": "3.12.10"
  }
 },
 "nbformat": 4,
 "nbformat_minor": 4
}
